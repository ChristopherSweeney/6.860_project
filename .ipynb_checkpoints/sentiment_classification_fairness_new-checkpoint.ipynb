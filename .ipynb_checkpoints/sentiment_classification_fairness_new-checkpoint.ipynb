{
 "cells": [
  {
   "cell_type": "code",
   "execution_count": 1,
   "metadata": {
    "collapsed": true
   },
   "outputs": [],
   "source": [
    "import numpy as np\n",
    "import gensim\n",
    "import pandas as pd\n",
    "from matplotlib import pyplot as plt\n",
    "import seaborn\n",
    "import re\n",
    "import statsmodels.formula.api\n",
    "from sklearn.linear_model import SGDClassifier\n",
    "from sklearn.model_selection import train_test_split\n",
    "from sklearn.metrics import accuracy_score\n",
    "from collections import Counter\n",
    "from sklearn.linear_model import LogisticRegression\n",
    "import re\n",
    "from sklearn.decomposition import PCA\n",
    "from sklearn.manifold import TSNE\n",
    "%matplotlib nbagg"
   ]
  },
  {
   "cell_type": "markdown",
   "metadata": {},
   "source": [
    "## Protected Groups\n",
    "\n",
    "Race,\n",
    "Color,\n",
    "Religion or creed,\n",
    "National origin or ancestry,\n",
    "Sex,\n",
    "Age,\n",
    "Physical or mental disability,\n",
    "Veteran status,\n",
    "Genetic information,\n",
    "Citizenship"
   ]
  },
  {
   "cell_type": "code",
   "execution_count": 2,
   "metadata": {
    "collapsed": true
   },
   "outputs": [],
   "source": [
    "identities = ['lesbian', 'gay', 'bisexual', 'transgender', 'trans', 'queer', \n",
    "              'lgbt', 'lgbtq', 'homosexual', 'straight', 'heterosexual', 'male', \n",
    "              'female', 'nonbinary', 'african', 'african american', 'black', 'white', \n",
    "              'european', 'hispanic', 'latino', 'latina', 'latinx', 'mexican', 'canadian', \n",
    "              'american', 'asian', 'indian', 'middle eastern', 'chinese', 'japanese', \n",
    "              'christian', 'muslim', 'jewish', 'buddhist', 'catholic', 'protestant', 'sikh', \n",
    "              'taoist', 'old', 'older', 'young', 'younger', 'teenage', 'millenial', 'middle aged', \n",
    "              'elderly', 'blind', 'deaf', 'paralyzed']"
   ]
  },
  {
   "cell_type": "code",
   "execution_count": 3,
   "metadata": {
    "collapsed": true
   },
   "outputs": [],
   "source": [
    "nationalities=[\n",
    "'German',\n",
    "#'African_American',\n",
    "'Mexican',\n",
    "'Irish',\n",
    "'English',\n",
    "'American',\n",
    "'Italian',\n",
    "'Polish',\n",
    "'French',\n",
    "'Scottish',\n",
    "#'Puerto_Rican',\n",
    "'Norwegian',\n",
    "'Dutch',\n",
    "'Swedish',\n",
    "'Chinese',\n",
    "'Indian',\n",
    "'Russian',\n",
    "'Filipino'\n",
    "]"
   ]
  },
  {
   "cell_type": "code",
   "execution_count": 4,
   "metadata": {
    "collapsed": true
   },
   "outputs": [],
   "source": [
    "religions =[ \n",
    "    'Zionist',\n",
    "    'Catholic',\n",
    "    'Christian',\n",
    "    'Islamic',\n",
    "    'Protestant',\n",
    "    'Taoist',\n",
    "    'Atheist',\n",
    "    'Hindu',\n",
    "    'Buddhist',\n",
    "    'Diasporic',\n",
    "    'Sikh',\n",
    "    'Juche',\n",
    "    'Jewish',\n",
    "    'Bahai',\n",
    "    'Jains',\n",
    "    'Shinto',\n",
    "    'Pagan'\n",
    "]"
   ]
  },
  {
   "cell_type": "code",
   "execution_count": 5,
   "metadata": {
    "collapsed": true
   },
   "outputs": [],
   "source": [
    "gender= [\"male\",\"female\",\"her\",\"him\",\"man\",\"woman\",\"boy\",\"girl\",\"his\",\"hers\",\"mom\",\"dad\"]#perhaps try all terms intraprotected group"
   ]
  },
  {
   "cell_type": "markdown",
   "metadata": {},
   "source": [
    "## Utility methods"
   ]
  },
  {
   "cell_type": "code",
   "execution_count": 6,
   "metadata": {
    "collapsed": true
   },
   "outputs": [],
   "source": [
    "def text_to_vector(embeddings,text):\n",
    "    tokens = text.split()\n",
    "    words = filter(lambda x: x in embeddings,[x.lower() for x in words])\n",
    "    if len(words)>0:\n",
    "        return np.mean(embeddings[words],axis = 0)\n",
    "    return None"
   ]
  },
  {
   "cell_type": "code",
   "execution_count": 7,
   "metadata": {
    "collapsed": true
   },
   "outputs": [],
   "source": [
    "def words_to_toxicity(model,embeddings,words):\n",
    "    words = list(filter(lambda x: x in embeddings,[x.lower() for x in words]))\n",
    "    if len(words)>0:\n",
    "        vector = np.mean(embeddings[words],axis = 0)\n",
    "        prob = model.predict_prob(vector)\n",
    "        return prob\n",
    "    else: return 0;"
   ]
  },
  {
   "cell_type": "code",
   "execution_count": 8,
   "metadata": {
    "collapsed": true
   },
   "outputs": [],
   "source": [
    "def text_to_toxicity(model,embeddings,text):\n",
    "    tokens = text.split()\n",
    "    toxicity = words_to_toxicity(model,embeddings,tokens)\n",
    "    return toxicity"
   ]
  },
  {
   "cell_type": "code",
   "execution_count": 9,
   "metadata": {
    "collapsed": true
   },
   "outputs": [],
   "source": [
    "def identity_toxicity_table(identities,embeddings,model,add=None):\n",
    "    words = []\n",
    "    toxicities = []\n",
    "    for word in sorted(identities):\n",
    "        word = add + word if add else word\n",
    "        word = word.lower()\n",
    "        toxicities.append(text_to_toxicity(model, embeddings,word.lower()))\n",
    "        words.append(word)\n",
    "    return zip(words,toxicities)"
   ]
  },
  {
   "cell_type": "code",
   "execution_count": 10,
   "metadata": {
    "collapsed": true
   },
   "outputs": [],
   "source": [
    "def load_lexicon(filename):\n",
    "    lexicon = []\n",
    "    with open(filename) as infile:\n",
    "        for line in infile:\n",
    "            line = line.rstrip()\n",
    "            if line and not line.startswith(';'):\n",
    "                lexicon.append(line)\n",
    "    return lexicon"
   ]
  },
  {
   "cell_type": "code",
   "execution_count": 12,
   "metadata": {},
   "outputs": [],
   "source": [
    "def generate_train_test_set(model,targets,sentences,dim=300):\n",
    "    vectors = np.zeros((len(sentences),dim))\n",
    "    labels = np.zeros((len(sentences)))\n",
    "    count=0\n",
    "    for i,sentence in enumerate(sentences):\n",
    "        words = filter(lambda x: x in model,[x.lower() for x in sentence.split()])\n",
    "        if len(words)>0:\n",
    "            vectors[count,:] = np.mean(model[words],axis = 0)\n",
    "            labels[count] = targets[i] \n",
    "            count+=1\n",
    "    print(count, \" sentences in embeddings, \", len(sentences) - count, \" sentences not in embeddings\")\n",
    "    return train_test_split(vectors, labels, test_size=0.1, random_state=0)"
   ]
  },
  {
   "cell_type": "code",
   "execution_count": 13,
   "metadata": {
    "collapsed": true
   },
   "outputs": [],
   "source": [
    "class LogisticRegression:\n",
    "    def __init__(self, lr=0.01, num_iter=5000,val=None,X_tils =[],lamb=.1,reg_coeff=[]):\n",
    "        self.lr = lr\n",
    "        self.num_iter = num_iter\n",
    "        self.val = val\n",
    "        self.X_tils = X_tils\n",
    "        self.lamb = lamb\n",
    "        self.reg_coeff = reg_coeff\n",
    "   \n",
    "    def __sigmoid(self, z):\n",
    "        return 1 / (1 + np.exp(-z))\n",
    "\n",
    "    def __loss(self, h, y):\n",
    "        return (-y * np.log(h) - (1 - y) * np.log(1 - h)).mean()\n",
    "    \n",
    "    def calculate_fairness_reg_grad(self,theta):\n",
    "        fair_reg_sum = 0\n",
    "        for i,X_til in enumerate(self.X_tils):\n",
    "            l = np.shape(X_til)[0]\n",
    "            z_til = np.dot(X_til, theta)\n",
    "            h_til = self.__sigmoid(z_til)\n",
    "            T = np.sum(h_til)\n",
    "            fair_reg_sum+=self.reg_coeff[i]*(np.sum(X_til.T*h_til*(1-h_til)*(np.log(l*h_til)+1),axis=1))\n",
    "        return fair_reg_sum\n",
    "    \n",
    "    def fit(self, X, y):\n",
    "        # weights initialization\n",
    "        self.theta = np.zeros(X.shape[1])\n",
    "        RNSB = []\n",
    "        loss = []\n",
    "        validation_scores = []\n",
    "        for i in range(self.num_iter):\n",
    "            z = np.dot(X, self.theta)\n",
    "            h = self.__sigmoid(z)\n",
    "            r = self.calculate_fairness_reg_grad(self.theta)\n",
    "            grad_loss = np.dot(X.T, (h - y)) / y.size\n",
    "            #logistic loss + L2 regularization + sum(fair_reg)\n",
    "            if(i % 1000 == 0):\n",
    "                print(np.sum(np.abs(grad_loss)), np.sum(np.abs(2*self.lamb*self.theta)), np.sum(np.abs(r)))\n",
    "            gradient = grad_loss + 2*self.lamb*self.theta+ r\n",
    "            self.theta -= self.lr * gradient\n",
    "            RNSB.append(self.validation_fairness())\n",
    "            loss.append(self.__loss(h, y))\n",
    "            validation_scores.append(self.validation(self.val[0],self.val[1]))\n",
    "            if(i % 1000 == 0):\n",
    "                z = np.dot(X, self.theta)\n",
    "                h = self.__sigmoid(z)\n",
    "                print('loss: ' ,self.__loss(h, y))\n",
    "                if self.val:\n",
    "                    print('validation MAp: ', self.validation(self.val[0],self.val[1]))\n",
    "                if len(self.X_tils)>0:\n",
    "                    print('RNSB: ', self.validation_fairness())\n",
    "        return (RNSB,loss,validation_scores)    \n",
    "    \n",
    "    def predict_prob(self, X):\n",
    "        return self.__sigmoid(np.dot(X, self.theta))\n",
    "    \n",
    "    def predict_proba(self, X):\n",
    "        return [1-self.__sigmoid(np.dot(X, self.theta)),self.__sigmoid(np.dot(X, self.theta))]\n",
    "    \n",
    "    def predict(self, X, threshold):\n",
    "        return self.predict_prob(X) >= threshold\n",
    "    \n",
    "    def validation(self,X,Y):\n",
    "        return np.mean(self.predict(X,.5)==Y)\n",
    "    \n",
    "    def validation_fairness(self):\n",
    "        vals = []\n",
    "        for Xtil in self.X_tils:\n",
    "            probs = self.predict_prob(Xtil)\n",
    "            probs = probs/np.sum(probs)\n",
    "            uniform = np.ones(len(probs))*1./len(probs)\n",
    "            vals.append((probs * np.log(probs/uniform)).sum())\n",
    "        return vals\n",
    "    def print_val_fairness(self):\n",
    "        vals = []\n",
    "        for Xtil in self.X_tils:\n",
    "            probs = self.predict_prob(Xtil)\n",
    "            probs = probs/np.sum(probs)\n",
    "            print(probs)\n",
    "            uniform = np.ones(len(probs))*1./len(probs)\n",
    "            vals.append((probs * np.log(probs/uniform)).sum())\n",
    "        print(vals)"
   ]
  },
  {
   "cell_type": "markdown",
   "metadata": {},
   "source": [
    "## Load Datasets"
   ]
  },
  {
   "cell_type": "code",
   "execution_count": 23,
   "metadata": {},
   "outputs": [
    {
     "name": "stdout",
     "output_type": "stream",
     "text": [
      "Collecting glove\n",
      "  Using cached https://files.pythonhosted.org/packages/8a/c9/17c400d0c29746162bd47fc719bf3212b2b031949d41d712e9bdef11ae03/glove-1.0.2.tar.gz\n",
      "Requirement already satisfied: numpy in /Users/ryanprinster/anaconda/lib/python3.6/site-packages (from glove) (1.12.1)\n",
      "Building wheels for collected packages: glove\n",
      "  Running setup.py bdist_wheel for glove ... \u001b[?25lerror\n",
      "  Complete output from command /Users/ryanprinster/anaconda/bin/python -u -c \"import setuptools, tokenize;__file__='/private/var/folders/bw/v9bvg6dd5kb_tsfy4sxf62zr0000gn/T/pip-install-9stw12yh/glove/setup.py';f=getattr(tokenize, 'open', open)(__file__);code=f.read().replace('\\r\\n', '\\n');f.close();exec(compile(code, __file__, 'exec'))\" bdist_wheel -d /private/var/folders/bw/v9bvg6dd5kb_tsfy4sxf62zr0000gn/T/pip-wheel-s2f801s7 --python-tag cp36:\n",
      "  running bdist_wheel\n",
      "  running build\n",
      "  running build_py\n",
      "  creating build\n",
      "  creating build/lib.macosx-10.7-x86_64-3.6\n",
      "  creating build/lib.macosx-10.7-x86_64-3.6/glove\n",
      "  copying glove/__init__.py -> build/lib.macosx-10.7-x86_64-3.6/glove\n",
      "  copying glove/glove.py -> build/lib.macosx-10.7-x86_64-3.6/glove\n",
      "  running egg_info\n",
      "  writing glove.egg-info/PKG-INFO\n",
      "  writing dependency_links to glove.egg-info/dependency_links.txt\n",
      "  writing requirements to glove.egg-info/requires.txt\n",
      "  writing top-level names to glove.egg-info/top_level.txt\n",
      "  reading manifest file 'glove.egg-info/SOURCES.txt'\n",
      "  reading manifest template 'MANIFEST.in'\n",
      "  writing manifest file 'glove.egg-info/SOURCES.txt'\n",
      "  error: Error: setup script specifies an absolute path:\n",
      "  \n",
      "      /private/var/folders/bw/v9bvg6dd5kb_tsfy4sxf62zr0000gn/T/pip-install-9stw12yh/glove/glove/glove_inner.pyx\n",
      "  \n",
      "  setup() arguments must *always* be /-separated paths relative to the\n",
      "  setup.py directory, *never* absolute paths.\n",
      "  \n",
      "  \n",
      "  ----------------------------------------\n",
      "\u001b[31m  Failed building wheel for glove\u001b[0m\n",
      "\u001b[?25h  Running setup.py clean for glove\n",
      "Failed to build glove\n",
      "Installing collected packages: glove\n",
      "  Running setup.py install for glove ... \u001b[?25lerror\n",
      "    Complete output from command /Users/ryanprinster/anaconda/bin/python -u -c \"import setuptools, tokenize;__file__='/private/var/folders/bw/v9bvg6dd5kb_tsfy4sxf62zr0000gn/T/pip-install-9stw12yh/glove/setup.py';f=getattr(tokenize, 'open', open)(__file__);code=f.read().replace('\\r\\n', '\\n');f.close();exec(compile(code, __file__, 'exec'))\" install --record /private/var/folders/bw/v9bvg6dd5kb_tsfy4sxf62zr0000gn/T/pip-record-ygk32b6n/install-record.txt --single-version-externally-managed --compile:\n",
      "    running install\n",
      "    running build\n",
      "    running build_py\n",
      "    creating build\n",
      "    creating build/lib.macosx-10.7-x86_64-3.6\n",
      "    creating build/lib.macosx-10.7-x86_64-3.6/glove\n",
      "    copying glove/__init__.py -> build/lib.macosx-10.7-x86_64-3.6/glove\n",
      "    copying glove/glove.py -> build/lib.macosx-10.7-x86_64-3.6/glove\n",
      "    running egg_info\n",
      "    writing glove.egg-info/PKG-INFO\n",
      "    writing dependency_links to glove.egg-info/dependency_links.txt\n",
      "    writing requirements to glove.egg-info/requires.txt\n",
      "    writing top-level names to glove.egg-info/top_level.txt\n",
      "    reading manifest file 'glove.egg-info/SOURCES.txt'\n",
      "    reading manifest template 'MANIFEST.in'\n",
      "    writing manifest file 'glove.egg-info/SOURCES.txt'\n",
      "    error: Error: setup script specifies an absolute path:\n",
      "    \n",
      "        /private/var/folders/bw/v9bvg6dd5kb_tsfy4sxf62zr0000gn/T/pip-install-9stw12yh/glove/glove/glove_inner.pyx\n",
      "    \n",
      "    setup() arguments must *always* be /-separated paths relative to the\n",
      "    setup.py directory, *never* absolute paths.\n",
      "    \n",
      "    \n",
      "    ----------------------------------------\n",
      "\u001b[31mCommand \"/Users/ryanprinster/anaconda/bin/python -u -c \"import setuptools, tokenize;__file__='/private/var/folders/bw/v9bvg6dd5kb_tsfy4sxf62zr0000gn/T/pip-install-9stw12yh/glove/setup.py';f=getattr(tokenize, 'open', open)(__file__);code=f.read().replace('\\r\\n', '\\n');f.close();exec(compile(code, __file__, 'exec'))\" install --record /private/var/folders/bw/v9bvg6dd5kb_tsfy4sxf62zr0000gn/T/pip-record-ygk32b6n/install-record.txt --single-version-externally-managed --compile\" failed with error code 1 in /private/var/folders/bw/v9bvg6dd5kb_tsfy4sxf62zr0000gn/T/pip-install-9stw12yh/glove/\u001b[0m\n",
      "\u001b[?25h"
     ]
    }
   ],
   "source": [
    "!pip3 install glove"
   ]
  },
  {
   "cell_type": "code",
   "execution_count": 25,
   "metadata": {},
   "outputs": [
    {
     "ename": "KeyboardInterrupt",
     "evalue": "",
     "output_type": "error",
     "traceback": [
      "\u001b[0;31m---------------------------------------------------------------------------\u001b[0m",
      "\u001b[0;31mKeyboardInterrupt\u001b[0m                         Traceback (most recent call last)",
      "\u001b[0;32m<ipython-input-25-01b1f1a54cdf>\u001b[0m in \u001b[0;36m<module>\u001b[0;34m()\u001b[0m\n\u001b[1;32m      3\u001b[0m \u001b[0mglove_input_file\u001b[0m \u001b[0;34m=\u001b[0m \u001b[0;34m'data/glove.6B/glove.6B.300d.txt'\u001b[0m\u001b[0;34m\u001b[0m\u001b[0m\n\u001b[1;32m      4\u001b[0m \u001b[0mword2vec_output_file\u001b[0m \u001b[0;34m=\u001b[0m \u001b[0;34m'data/glove.6B/glove.6B.300d.txt.word2vec'\u001b[0m\u001b[0;34m\u001b[0m\u001b[0m\n\u001b[0;32m----> 5\u001b[0;31m \u001b[0mglove2word2vec\u001b[0m\u001b[0;34m(\u001b[0m\u001b[0mglove_input_file\u001b[0m\u001b[0;34m,\u001b[0m \u001b[0mword2vec_output_file\u001b[0m\u001b[0;34m)\u001b[0m\u001b[0;34m\u001b[0m\u001b[0m\n\u001b[0m\u001b[1;32m      6\u001b[0m \u001b[0membeddings\u001b[0m \u001b[0;34m=\u001b[0m \u001b[0mgensim\u001b[0m\u001b[0;34m.\u001b[0m\u001b[0mmodels\u001b[0m\u001b[0;34m.\u001b[0m\u001b[0mKeyedVectors\u001b[0m\u001b[0;34m.\u001b[0m\u001b[0mload_word2vec_format\u001b[0m\u001b[0;34m(\u001b[0m\u001b[0mword2vec_output_file\u001b[0m\u001b[0;34m,\u001b[0m\u001b[0mbinary\u001b[0m\u001b[0;34m=\u001b[0m\u001b[0;32mFalse\u001b[0m\u001b[0;34m)\u001b[0m\u001b[0;34m\u001b[0m\u001b[0m\n\u001b[1;32m      7\u001b[0m \u001b[0;34m\u001b[0m\u001b[0m\n",
      "\u001b[0;32m/Users/ryanprinster/anaconda/lib/python3.6/site-packages/gensim-3.1.0-py3.6-macosx-10.7-x86_64.egg/gensim/scripts/glove2word2vec.py\u001b[0m in \u001b[0;36mglove2word2vec\u001b[0;34m(glove_input_file, word2vec_output_file)\u001b[0m\n\u001b[1;32m     45\u001b[0m         \u001b[0mfout\u001b[0m\u001b[0;34m.\u001b[0m\u001b[0mwrite\u001b[0m\u001b[0;34m(\u001b[0m\u001b[0;34m\"{0} {1}\\n\"\u001b[0m\u001b[0;34m.\u001b[0m\u001b[0mformat\u001b[0m\u001b[0;34m(\u001b[0m\u001b[0mnum_lines\u001b[0m\u001b[0;34m,\u001b[0m \u001b[0mnum_dims\u001b[0m\u001b[0;34m)\u001b[0m\u001b[0;34m.\u001b[0m\u001b[0mencode\u001b[0m\u001b[0;34m(\u001b[0m\u001b[0;34m'utf-8'\u001b[0m\u001b[0;34m)\u001b[0m\u001b[0;34m)\u001b[0m\u001b[0;34m\u001b[0m\u001b[0m\n\u001b[1;32m     46\u001b[0m         \u001b[0;32mwith\u001b[0m \u001b[0msmart_open\u001b[0m\u001b[0;34m(\u001b[0m\u001b[0mglove_input_file\u001b[0m\u001b[0;34m,\u001b[0m \u001b[0;34m'rb'\u001b[0m\u001b[0;34m)\u001b[0m \u001b[0;32mas\u001b[0m \u001b[0mfin\u001b[0m\u001b[0;34m:\u001b[0m\u001b[0;34m\u001b[0m\u001b[0m\n\u001b[0;32m---> 47\u001b[0;31m             \u001b[0;32mfor\u001b[0m \u001b[0mline\u001b[0m \u001b[0;32min\u001b[0m \u001b[0mfin\u001b[0m\u001b[0;34m:\u001b[0m\u001b[0;34m\u001b[0m\u001b[0m\n\u001b[0m\u001b[1;32m     48\u001b[0m                 \u001b[0mfout\u001b[0m\u001b[0;34m.\u001b[0m\u001b[0mwrite\u001b[0m\u001b[0;34m(\u001b[0m\u001b[0mline\u001b[0m\u001b[0;34m)\u001b[0m\u001b[0;34m\u001b[0m\u001b[0m\n\u001b[1;32m     49\u001b[0m     \u001b[0;32mreturn\u001b[0m \u001b[0mnum_lines\u001b[0m\u001b[0;34m,\u001b[0m \u001b[0mnum_dims\u001b[0m\u001b[0;34m\u001b[0m\u001b[0m\n",
      "\u001b[0;31mKeyboardInterrupt\u001b[0m: "
     ]
    }
   ],
   "source": [
    "#GLOVE\n",
    "from gensim.scripts.glove2word2vec import glove2word2vec\n",
    "glove_input_file = 'data/glove.6B/glove.6B.300d.txt'\n",
    "word2vec_output_file = 'data/glove.6B/glove.6B.300d.txt.word2vec'\n",
    "glove2word2vec(glove_input_file, word2vec_output_file)\n",
    "embeddings = gensim.models.KeyedVectors.load_word2vec_format(word2vec_output_file,binary=False)\n",
    "\n",
    "#Word2vec\n",
    "# embeddings = gensim.models.KeyedVectors.load_word2vec_format('data/embeddings/GoogleNews-vectors-negative300.bin.gz', binary=True)\n",
    "\n",
    "#universal sentence encoder\n",
    "# import tensorflow as tf\n",
    "# import tensorflow_hub as hub\n",
    "# module_url = \"https://tfhub.dev/google/universal-sentence-encoder-large/3\"\n",
    "# # Import the Universal Sentence Encoder's TF Hub module\n",
    "# embed = hub.Module(module_url)"
   ]
  },
  {
   "cell_type": "code",
   "execution_count": 26,
   "metadata": {
    "collapsed": true
   },
   "outputs": [],
   "source": [
    "#kaggle\n",
    "\n",
    "#df = pd.read_csv(\"data/kaggle_toxicity/train.csv\")\n",
    "\n",
    "#word sentiment\n",
    "\n",
    "pos_words = load_lexicon(\"data/opinion_lexicon/positive-words.txt\")\n",
    "neg_words = load_lexicon(\"data/opinion_lexicon/negative-words.txt\")\n",
    "\n",
    "#imbd\n",
    "\n",
    "# import numpy\n",
    "# from keras.datasets import imdb\n",
    "# from matplotlib import pyplot\n",
    "# # load the dataset\n",
    "# (X_train, y_train), (X_test, y_test) = imdb.load_data()\n",
    "# X = numpy.concatenate((X_train, X_test), axis=0)\n",
    "# y = numpy.concatenate((y_train, y_test), axis=0)"
   ]
  },
  {
   "cell_type": "markdown",
   "metadata": {},
   "source": [
    "## Initialize word sentiment dataset or toxicity dataset (wiki)"
   ]
  },
  {
   "cell_type": "code",
   "execution_count": null,
   "metadata": {
    "collapsed": true
   },
   "outputs": [],
   "source": [
    "np.shape(train_vectors)"
   ]
  },
  {
   "cell_type": "code",
   "execution_count": 27,
   "metadata": {
    "collapsed": true
   },
   "outputs": [],
   "source": [
    "#sentiment word dataset from positve/negative reviews\n",
    "#'''\n",
    "pos_words_fil = filter(lambda x:  x in embeddings,map(lambda x: x,pos_words))\n",
    "neg_words_fil = filter(lambda x:  x in embeddings,map(lambda x: x,neg_words))\n",
    "pos_vectors = embeddings[pos_words_fil]\n",
    "neg_vectors = embeddings[neg_words_fil]\n",
    "vectors = np.concatenate([pos_vectors, neg_vectors])\n",
    "targets = np.array([0 for entry in pos_vectors] + [1 for entry in neg_vectors])\n",
    "labels = list(pos_vectors) + list(neg_vectors)\n",
    "train_vectors, test_vectors, train_targets, test_targets, train_labels, test_labels = train_test_split(vectors, targets, labels, test_size=0.1, random_state=0)\n",
    "#'''\n",
    "#toxicity tweet dataset\n",
    "#''''''\n",
    "# toxic_sentences = df[df[\"toxic\"]==1][\"comment_text\"]\n",
    "# num_toxic_samples = len(toxic_sentences)\n",
    "# non_toxic_sentences = df[df[\"toxic\"]==0][\"comment_text\"].sample(num_toxic_samples)\n",
    "# sentences = pd.concat([toxic_sentences, non_toxic_sentences])\n",
    "# targets  = np.zeros(num_toxic_samples*2)\n",
    "# targets[0:num_toxic_samples] = 1\n",
    "# train_vectors, test_vectors, train_targets, test_targets = generate_train_test_set(embeddings,targets,sentences)\n",
    "# sentences = map(lambda x: re.sub('[^A-Za-z0-9 ]+', '', x.lower()),list(sentences))\n",
    "# # message_embeddings = None\n",
    "# # with tf.Session() as session:\n",
    "# #     session.run([tf.global_variables_initializer(), tf.tables_initializer()])\n",
    "# #     message_embeddings = session.run(embed(sentences))\n",
    "# #     print np.shape(message_embeddings)\n",
    "# from sklearn.feature_extraction.text import TfidfVectorizer\n",
    "# vec = TfidfVectorizer(ngram_range=(1,2),\n",
    "#                min_df=3, max_df=0.9, strip_accents='unicode', use_idf=1,\n",
    "#                smooth_idf=1, sublinear_tf=1)\n",
    "# trn_term_doc = vec.fit_transform(sentences)\n",
    "\n",
    "# train_vectors, test_vectors, train_targets, test_targets = train_test_split(trn_term_doc.todense(), targets,test_size=0.1, random_state=0)\n",
    "\n",
    "#'''\n",
    "\n",
    "\n",
    "    \n",
    "# import re, string\n",
    "# re_tok = re.compile(f'([{string.punctuation}“”¨«»®´·º½¾¿¡§£₤‘’])')\n",
    "# def tokenize(s): return re_tok.sub(r' \\1 ', s).split()\n",
    "# n = train.shape[0]\n",
    "# vec = TfidfVectorizer(ngram_range=(1,2), tokenizer=tokenize,\n",
    "#                min_df=3, max_df=0.9, strip_accents='unicode', use_idf=1,\n",
    "#                smooth_idf=1, sublinear_tf=1 )\n",
    "# trn_term_doc = vec.fit_transform(train[COMMENT])\n",
    "# test_term_doc = vec.transform(test[COMMENT])\n",
    "#imbd movie ratings?????"
   ]
  },
  {
   "cell_type": "markdown",
   "metadata": {},
   "source": [
    "## PCA"
   ]
  },
  {
   "cell_type": "code",
   "execution_count": 28,
   "metadata": {
    "collapsed": true
   },
   "outputs": [],
   "source": [
    "def remove_component(matrix, row_index):\n",
    "    return np.delete(matrix,row_index,1)\n",
    "\n",
    "# Deprecated. Or at least not used right now.\n",
    "def remove_principle_component(X_matrix, component_index):\n",
    "    u, s, vt = np.linalg.svd(X_matrix, full_matrices=False)\n",
    "    u_new = np.delete(u, component_index, 1)    \n",
    "    s_new = np.delete(s, component_index) \n",
    "    vt_new = np.delete(vt, component_index, 0)\n",
    "    return np.mat(u_new)* np.diag(s_new) * np.mat(vt_new)\n",
    "\n",
    "# Deprecated. Or at least not used right now.\n",
    "def leave_one_out(X_matrix):\n",
    "    print(\"leaving one out...\")\n",
    "    list_of_Xs = []\n",
    "    for i in range(X_matrix.shape[1]):\n",
    "        X_without_i = remove_principle_component(X_matrix, i)\n",
    "        list_of_Xs.append(np.array(X_without_i))\n",
    "    return list_of_Xs\n",
    "\n",
    "def leave_one_out_efficiently(X_matrix, num_top_components_to_remove=float('inf')):\n",
    "    list_of_Xs = []\n",
    "    u, s, vt = np.linalg.svd(X_matrix, full_matrices=False)\n",
    "    \n",
    "    for i in range(min(X_matrix.shape[1], num_top_components_to_remove)):\n",
    "        u_new = np.delete(u, i, 1)    \n",
    "        s_new = np.delete(s, i) \n",
    "        vt_new = np.delete(vt, i, 0)\n",
    "        X_without_i = np.mat(u_new)* np.diag(s_new) * np.mat(vt_new)\n",
    "        list_of_Xs.append(np.array(X_without_i))\n",
    "    return list_of_Xs"
   ]
  },
  {
   "cell_type": "code",
   "execution_count": 32,
   "metadata": {
    "collapsed": true
   },
   "outputs": [],
   "source": [
    "def run_lr_on_this_data(new_train_vectors):    \n",
    "    lr = LogisticRegression(val=(test_vectors,test_targets),X_tils = regularizers,reg_coeff=[0,0,0],lamb=0.01,num_iter=8000)\n",
    "    (RNSB,loss,validation_scores) = lr.fit(new_train_vectors,train_targets)\n",
    "    return lr\n",
    "    print(\"----------------------------------------------\")"
   ]
  },
  {
   "cell_type": "code",
   "execution_count": 37,
   "metadata": {
    "collapsed": true
   },
   "outputs": [],
   "source": [
    "def run_loo_experiment(num_singular_vectors):\n",
    "    leave_one_out_matricies = leave_one_out_efficiently(train_vectors, num_singular_vectors)\n",
    "\n",
    "    # Un-pca'd LR\n",
    "    og_lr = LogisticRegression(val=(test_vectors,test_targets),X_tils = regularizers,reg_coeff=[0,0,0],lamb=0.01,num_iter=4000)\n",
    "    (RNSB,loss,validation_scores) = og_lr.fit(train_vectors,train_targets)\n",
    "\n",
    "    lr_metrics = []\n",
    "    \n",
    "    for i in range(len(leave_one_out_matricies)):\n",
    "        lr_metrics.append(run_lr_on_this_data(leave_one_out_matricies[i]))\n",
    "        print(\"finished with \" + str(i) + \" runs of \" + str(len(leave_one_out_matricies)))\n",
    "        print(\"____________________\")\n",
    "        print()\n",
    "        \n",
    "    return lr_metrics, og_lr \n"
   ]
  },
  {
   "cell_type": "code",
   "execution_count": null,
   "metadata": {
    "collapsed": true
   },
   "outputs": [],
   "source": [
    "# Need here for regularizers, even if all are zero.\n",
    "N = np.zeros((len(nationalities),300))\n",
    "for i,j in enumerate(nationalities):\n",
    "    N[i,:] = embeddings[j.lower()]\n",
    "R = np.zeros((len(religions),300))\n",
    "for i,j in enumerate(religions):\n",
    "    R[i,:] = embeddings[j.lower()]\n",
    "G = np.zeros((len(gender),300))\n",
    "for i,j in enumerate(gender):\n",
    "    G[i,:] = embeddings[j.lower()]\n",
    "regularizers = [N,R,G]"
   ]
  },
  {
   "cell_type": "code",
   "execution_count": 38,
   "metadata": {},
   "outputs": [
    {
     "name": "stdout",
     "output_type": "stream",
     "text": [
      "6.67731607316 0.0 0.0\n",
      "loss:  0.690806938888\n",
      "validation MAp:  0.774038461538\n",
      "RNSB:  [1.2337028740690939e-07, 2.1538976197832401e-06, 3.7378536644028877e-07]\n",
      "1.48099565479 0.447926492306 0.0\n",
      "loss:  0.314153624448\n",
      "validation MAp:  0.900641025641\n",
      "RNSB:  [0.042099657028117535, 0.070295260016458527, 0.024795884737000493]\n",
      "1.0262187447 0.580921375259 0.0\n",
      "loss:  0.270939466524\n",
      "validation MAp:  0.911858974359\n",
      "RNSB:  [0.070477078261294041, 0.096361227460164553, 0.040996409070636078]\n",
      "0.869473784181 0.64328313835 0.0\n",
      "loss:  0.255417367627\n",
      "validation MAp:  0.908653846154\n",
      "RNSB:  [0.084833309095563539, 0.10962604330265141, 0.049544524539065243]\n",
      "4.17065574356 0.0 0.0\n",
      "loss:  0.692235470718\n",
      "validation MAp:  0.801282051282\n",
      "RNSB:  [1.6049668732652012e-07, 2.5987003528086562e-07, 1.3248609838463954e-07]\n",
      "1.3481117511 0.39275018635 0.0\n",
      "loss:  0.43389919989\n",
      "validation MAp:  0.826923076923\n",
      "RNSB:  [0.023778585508111016, 0.037972645116305867, 0.020944636726618879]\n",
      "0.93134112418 0.517253224107 0.0\n",
      "loss:  0.397654545019\n",
      "validation MAp:  0.831730769231\n",
      "RNSB:  [0.038272047684718188, 0.063084128497580161, 0.034271369458785492]\n",
      "0.788602373001 0.57528970962 0.0\n",
      "loss:  0.384609355236\n",
      "validation MAp:  0.830128205128\n",
      "RNSB:  [0.045817739084856007, 0.07688324288146936, 0.040844517456824984]\n",
      "0.724614305585 0.605975436763 0.0\n",
      "loss:  0.378501695304\n",
      "validation MAp:  0.828525641026\n",
      "RNSB:  [0.049864397899718485, 0.084662519781247211, 0.044067143884561295]\n",
      "0.692501112841 0.623496855263 0.0\n",
      "loss:  0.375282768886\n",
      "validation MAp:  0.831730769231\n",
      "RNSB:  [0.052097334820380661, 0.089219221334784132, 0.045663235372719699]\n",
      "0.675351605897 0.633979954019 0.0\n",
      "loss:  0.373469272157\n",
      "validation MAp:  0.831730769231\n",
      "RNSB:  [0.053362146516608831, 0.091989258483595432, 0.046462353740464216]\n",
      "0.665843642184 0.640435029805 0.0\n",
      "loss:  0.37240180149\n",
      "validation MAp:  0.830128205128\n",
      "RNSB:  [0.054095307874729409, 0.093728418869092389, 0.046865557849381359]\n",
      "finished with 0 runs of 20\n",
      "____________________\n",
      "\n",
      "6.46402081514 0.0 0.0\n",
      "loss:  0.690873301573\n",
      "validation MAp:  0.786858974359\n",
      "RNSB:  [1.2206281119473875e-07, 2.9179747925942824e-06, 6.2620234121834218e-07]\n",
      "1.45381736168 0.436525819467 0.0\n",
      "loss:  0.327232874852\n",
      "validation MAp:  0.892628205128\n",
      "RNSB:  [0.042979862801614505, 0.10524096914482528, 0.053941253345824017]\n",
      "1.01579217341 0.569144711904 0.0\n",
      "loss:  0.285099170794\n",
      "validation MAp:  0.902243589744\n",
      "RNSB:  [0.073932724365381064, 0.13791551821495121, 0.085366906910127702]\n",
      "0.862934866887 0.632650821462 0.0\n",
      "loss:  0.2697195766\n",
      "validation MAp:  0.910256410256\n",
      "RNSB:  [0.09000973930461631, 0.15294973896348987, 0.10147068986590793]\n",
      "0.793787416431 0.666617467455 0.0\n",
      "loss:  0.262485832092\n",
      "validation MAp:  0.910256410256\n",
      "RNSB:  [0.098511014953719639, 0.16062128593858344, 0.10960339410822581]\n",
      "0.758860547225 0.685570692171 0.0\n",
      "loss:  0.25866949592\n",
      "validation MAp:  0.910256410256\n",
      "RNSB:  [0.10314390999605764, 0.16479748896497554, 0.11375442097319408]\n",
      "0.740173933653 0.696563634157 0.0\n",
      "loss:  0.256522158482\n",
      "validation MAp:  0.910256410256\n",
      "RNSB:  [0.10574490455164046, 0.16718956345468799, 0.11589597195287155]\n",
      "0.72979650398 0.703174436616 0.0\n",
      "loss:  0.255261881755\n",
      "validation MAp:  0.908653846154\n",
      "RNSB:  [0.10724715859776485, 0.16862263182802653, 0.11700754583720346]\n",
      "finished with 1 runs of 20\n",
      "____________________\n",
      "\n",
      "6.0983318419 0.0 0.0\n",
      "loss:  0.691161382799\n",
      "validation MAp:  0.753205128205\n",
      "RNSB:  [5.5537209169650872e-08, 1.8863489500462031e-06, 5.5697652015759586e-07]\n",
      "1.27868521543 0.381808947137 0.0\n",
      "loss:  0.403612026438\n",
      "validation MAp:  0.844551282051\n",
      "RNSB:  [0.019809747138454594, 0.075728520202928556, 0.0234822444740765]\n",
      "0.890320125093 0.497610679264 0.0\n",
      "loss:  0.370010921687\n",
      "validation MAp:  0.857371794872\n",
      "RNSB:  [0.03494993582072764, 0.11436465419922218, 0.028984912322793276]\n",
      "0.753971888219 0.552170217526 0.0\n",
      "loss:  0.357697200549\n",
      "validation MAp:  0.863782051282\n",
      "RNSB:  [0.042658787534371641, 0.13496367708790757, 0.030396643266506387]\n",
      "0.693008149491 0.580976256458 0.0\n",
      "loss:  0.351879648502\n",
      "validation MAp:  0.865384615385\n",
      "RNSB:  [0.046611816793164389, 0.14634096243817998, 0.030727431697218567]\n",
      "0.662643142447 0.597528574883 0.0\n",
      "loss:  0.34878682684\n",
      "validation MAp:  0.871794871795\n",
      "RNSB:  [0.048702713133365556, 0.15303715957648742, 0.030750045837628071]\n",
      "0.64655806144 0.607526851823 0.0\n",
      "loss:  0.347027279443\n",
      "validation MAp:  0.871794871795\n",
      "RNSB:  [0.049844385489736603, 0.1572055900566002, 0.030688993091811591]\n",
      "0.637642729674 0.613610707823 0.0\n",
      "loss:  0.345980069584\n",
      "validation MAp:  0.871794871795\n",
      "RNSB:  [0.05048648098981616, 0.15991405676097015, 0.030613362757174314]\n",
      "finished with 2 runs of 20\n",
      "____________________\n",
      "\n",
      "6.59365563745 0.0 0.0\n",
      "loss:  0.690862666605\n",
      "validation MAp:  0.780448717949\n",
      "RNSB:  [1.3890615637486157e-07, 2.1704608460521233e-06, 3.5804545784420708e-07]\n",
      "1.44422550114 0.435414550782 0.0\n",
      "loss:  0.33035458028\n",
      "validation MAp:  0.883012820513\n",
      "RNSB:  [0.045371482534495994, 0.07495850882181064, 0.023524457711087559]\n",
      "1.00683686717 0.565655578894 0.0\n",
      "loss:  0.28897210485\n",
      "validation MAp:  0.892628205128\n",
      "RNSB:  [0.074491867140389995, 0.10363265990172352, 0.040528412653666766]\n",
      "0.852703305409 0.627859374282 0.0\n",
      "loss:  0.273997315857\n",
      "validation MAp:  0.902243589744\n",
      "RNSB:  [0.089055896259880266, 0.11848447652948287, 0.050227505997722875]\n",
      "0.783662933398 0.660589972804 0.0\n",
      "loss:  0.267018620682\n",
      "validation MAp:  0.903846153846\n",
      "RNSB:  [0.096765012564281883, 0.12684580542165438, 0.055569221336920244]\n",
      "0.748904289125 0.678722128927 0.0\n",
      "loss:  0.263369157094\n",
      "validation MAp:  0.902243589744\n",
      "RNSB:  [0.10106793579797696, 0.13181767491110635, 0.058546351366087865]\n",
      "0.730393734618 0.689137494973 0.0\n",
      "loss:  0.261332864239\n",
      "validation MAp:  0.902243589744\n",
      "RNSB:  [0.10358808796397757, 0.13489281405965431, 0.060239908652812486]\n",
      "0.720218174769 0.695250538018 0.0\n",
      "loss:  0.260147072438\n",
      "validation MAp:  0.899038461538\n",
      "RNSB:  [0.10513094021094195, 0.13685296214370921, 0.061225119194655613]\n",
      "finished with 3 runs of 20\n",
      "____________________\n",
      "\n",
      "6.56384235671 0.0 0.0\n",
      "loss:  0.690856537904\n",
      "validation MAp:  0.777243589744\n",
      "RNSB:  [9.4537982424941643e-08, 1.8962333443739011e-06, 3.2259507139171346e-07]\n",
      "1.48859468565 0.443235353959 0.0\n",
      "loss:  0.32675841767\n",
      "validation MAp:  0.900641025641\n",
      "RNSB:  [0.027611201890838225, 0.039258764326004114, 0.020620928552867519]\n",
      "1.03215893087 0.579222693007 0.0\n",
      "loss:  0.284219368225\n",
      "validation MAp:  0.918269230769\n",
      "RNSB:  [0.045636703431975165, 0.049776733846981808, 0.033045967005450469]\n",
      "0.872457725375 0.643380592881 0.0\n",
      "loss:  0.268799733933\n",
      "validation MAp:  0.919871794872\n",
      "RNSB:  [0.054751121615285461, 0.055183588965741596, 0.039263267744931926]\n",
      "0.800796266712 0.676870570485 0.0\n",
      "loss:  0.261616003511\n",
      "validation MAp:  0.919871794872\n",
      "RNSB:  [0.059528277555100713, 0.058155306439605259, 0.042535656934017542]\n",
      "0.765100712355 0.695437586994 0.0\n",
      "loss:  0.257864707401\n",
      "validation MAp:  0.921474358974\n",
      "RNSB:  [0.062116190173414063, 0.059853271728861505, 0.044332025586021125]\n",
      "0.746289196953 0.706039441567 0.0\n",
      "loss:  0.255776798097\n",
      "validation MAp:  0.921474358974\n",
      "RNSB:  [0.063562333041842306, 0.060853412768016452, 0.045346747387283462]\n",
      "0.736041733055 0.712221567888 0.0\n",
      "loss:  0.254565218658\n",
      "validation MAp:  0.921474358974\n",
      "RNSB:  [0.064396503093365962, 0.061458747108615902, 0.045932402435063614]\n",
      "finished with 4 runs of 20\n",
      "____________________\n",
      "\n",
      "6.09009002268 0.0 0.0\n",
      "loss:  0.691071258208\n",
      "validation MAp:  0.75\n",
      "RNSB:  [8.9409796944389967e-08, 2.3392161923852431e-06, 3.4631442918646341e-07]\n",
      "1.20536804768 0.376817940044 0.0\n",
      "loss:  0.40381036426\n",
      "validation MAp:  0.825320512821\n",
      "RNSB:  [0.022702063394592274, 0.066500315063407325, 0.020965988219874776]\n",
      "0.823132402721 0.481699256159 0.0\n",
      "loss:  0.376348442954\n",
      "validation MAp:  0.834935897436\n",
      "RNSB:  [0.036165985556193998, 0.086417380901868387, 0.033848673762558089]\n",
      "0.695876922647 0.528952921917 0.0\n",
      "loss:  0.366664317527\n",
      "validation MAp:  0.839743589744\n",
      "RNSB:  [0.04252586535213132, 0.095716947032724001, 0.041165584306888263]\n",
      "0.642185328344 0.55309926449 0.0\n",
      "loss:  0.362165313511\n",
      "validation MAp:  0.839743589744\n",
      "RNSB:  [0.045867972913797322, 0.1005165018934373, 0.045244773922312943]\n",
      "0.616569046249 0.566361540356 0.0\n",
      "loss:  0.35979044968\n",
      "validation MAp:  0.841346153846\n",
      "RNSB:  [0.047835687551668116, 0.10320818389695384, 0.047518003443931575]\n"
     ]
    },
    {
     "name": "stdout",
     "output_type": "stream",
     "text": [
      "0.603505455919 0.57394850817 0.0\n",
      "loss:  0.358439393035\n",
      "validation MAp:  0.841346153846\n",
      "RNSB:  [0.049108858264998355, 0.10482691056462852, 0.048792958599506761]\n",
      "0.596531285534 0.578463855081 0.0\n",
      "loss:  0.357630680542\n",
      "validation MAp:  0.839743589744\n",
      "RNSB:  [0.049987766046172236, 0.10585637435508298, 0.049513487796668337]\n",
      "finished with 5 runs of 20\n",
      "____________________\n",
      "\n",
      "6.50583287767 0.0 0.0\n",
      "loss:  0.690870817459\n",
      "validation MAp:  0.780448717949\n",
      "RNSB:  [1.4008680591702332e-07, 1.9610371464309071e-06, 4.272908353518016e-07]\n",
      "1.40688458072 0.428115082399 0.0\n",
      "loss:  0.337245746083\n",
      "validation MAp:  0.883012820513\n",
      "RNSB:  [0.042514418901144713, 0.056069376110888539, 0.024792076086257775]\n",
      "0.980113623726 0.553910691685 0.0\n",
      "loss:  0.298053874902\n",
      "validation MAp:  0.899038461538\n",
      "RNSB:  [0.068907808042692281, 0.075364392967612742, 0.035866101603764494]\n",
      "0.832282949847 0.614071384212 0.0\n",
      "loss:  0.283883526392\n",
      "validation MAp:  0.897435897436\n",
      "RNSB:  [0.082215508721773703, 0.084632409406150785, 0.040521409475466397]\n",
      "0.765909668522 0.645991898508 0.0\n",
      "loss:  0.277247594425\n",
      "validation MAp:  0.902243589744\n",
      "RNSB:  [0.08944287075496718, 0.089406819507711358, 0.042489190416115825]\n",
      "0.732726912787 0.663942205411 0.0\n",
      "loss:  0.273753269386\n",
      "validation MAp:  0.903846153846\n",
      "RNSB:  [0.093622522026290983, 0.092025665507679572, 0.043295210132339002]\n",
      "0.715149952414 0.674468985632 0.0\n",
      "loss:  0.271787025048\n",
      "validation MAp:  0.903846153846\n",
      "RNSB:  [0.096172129636519499, 0.093548061614319555, 0.04358645528703757]\n",
      "0.705434150678 0.680772879427 0.0\n",
      "loss:  0.270630980073\n",
      "validation MAp:  0.905448717949\n",
      "RNSB:  [0.097799573601741907, 0.094481241525580045, 0.043651534046122084]\n",
      "finished with 6 runs of 20\n",
      "____________________\n",
      "\n",
      "6.67021658915 0.0 0.0\n",
      "loss:  0.690810665668\n",
      "validation MAp:  0.775641025641\n",
      "RNSB:  [1.261167862044916e-07, 2.144464358976956e-06, 3.8900922311103003e-07]\n",
      "1.47450817982 0.446491854162 0.0\n",
      "loss:  0.31573710627\n",
      "validation MAp:  0.895833333333\n",
      "RNSB:  [0.040643286192661415, 0.06921781586468792, 0.026498234075298114]\n",
      "1.02128837385 0.579215369116 0.0\n",
      "loss:  0.272986381905\n",
      "validation MAp:  0.905448717949\n",
      "RNSB:  [0.066867330727720525, 0.094414394275121424, 0.042430460886255711]\n",
      "0.865535091209 0.640741313628 0.0\n",
      "loss:  0.257648468919\n",
      "validation MAp:  0.911858974359\n",
      "RNSB:  [0.079888694920391259, 0.10707359082276663, 0.050250329119697415]\n",
      "0.795885648062 0.673422527288 0.0\n",
      "loss:  0.250530181168\n",
      "validation MAp:  0.911858974359\n",
      "RNSB:  [0.086658372593462984, 0.11393667725162819, 0.054137614666884742]\n",
      "0.761128643898 0.691476827893 0.0\n",
      "loss:  0.246818838881\n",
      "validation MAp:  0.910256410256\n",
      "RNSB:  [0.090336843615941409, 0.1178706953250775, 0.056119351397184374]\n",
      "0.742856666894 0.702052711027 0.0\n",
      "loss:  0.244753462067\n",
      "validation MAp:  0.911858974359\n",
      "RNSB:  [0.092420563319575669, 0.12023193551933009, 0.057145361898846073]\n",
      "0.732888377911 0.708362694223 0.0\n",
      "loss:  0.243553641579\n",
      "validation MAp:  0.911858974359\n",
      "RNSB:  [0.09365022493171557, 0.12170726216275615, 0.057679404641940296]\n",
      "finished with 7 runs of 20\n",
      "____________________\n",
      "\n",
      "6.67824004827 0.0 0.0\n",
      "loss:  0.690811120609\n",
      "validation MAp:  0.777243589744\n",
      "RNSB:  [1.2616510488528093e-07, 2.107783050902299e-06, 3.4347664495148794e-07]\n",
      "1.46825653791 0.44559259616 0.0\n",
      "loss:  0.315782800195\n",
      "validation MAp:  0.903846153846\n",
      "RNSB:  [0.042824426836248243, 0.063011498878426137, 0.023362206833246565]\n",
      "1.01732705835 0.577297219784 0.0\n",
      "loss:  0.272770305108\n",
      "validation MAp:  0.908653846154\n",
      "RNSB:  [0.071494640147634583, 0.084701280414699404, 0.040580162186711552]\n",
      "0.861991087252 0.63895672922 0.0\n",
      "loss:  0.257293682882\n",
      "validation MAp:  0.910256410256\n",
      "RNSB:  [0.086119611047550865, 0.095700343291678203, 0.050147648287301561]\n",
      "0.792747255489 0.671056569092 0.0\n",
      "loss:  0.250105188793\n",
      "validation MAp:  0.911858974359\n",
      "RNSB:  [0.093875769951497948, 0.10178079637713121, 0.055321233866636108]\n",
      "0.758180100793 0.688996464162 0.0\n",
      "loss:  0.246357812063\n",
      "validation MAp:  0.910256410256\n",
      "RNSB:  [0.098145690322771484, 0.10534209848516295, 0.058148181415756103]\n",
      "0.739905744863 0.699429791062 0.0\n",
      "loss:  0.244274172527\n",
      "validation MAp:  0.910256410256\n",
      "RNSB:  [0.10057875483687431, 0.10752311061026523, 0.059715410341065048]\n",
      "0.729887239292 0.705555918535 0.0\n",
      "loss:  0.243065532928\n",
      "validation MAp:  0.910256410256\n",
      "RNSB:  [0.10201248094610356, 0.10890881616013937, 0.060596972311992431]\n",
      "finished with 8 runs of 20\n",
      "____________________\n",
      "\n",
      "6.6675731302 0.0 0.0\n",
      "loss:  0.69081476831\n",
      "validation MAp:  0.775641025641\n",
      "RNSB:  [1.2170012001234683e-07, 2.1745777155107711e-06, 4.0488460898163855e-07]\n",
      "1.4783632668 0.44693305802 0.0\n",
      "loss:  0.317596308598\n",
      "validation MAp:  0.897435897436\n",
      "RNSB:  [0.03924673273050075, 0.071744350349215585, 0.02885896584007978]\n",
      "1.02528640029 0.580386167699 0.0\n",
      "loss:  0.275138897115\n",
      "validation MAp:  0.910256410256\n",
      "RNSB:  [0.064769896187668874, 0.099127197181477417, 0.046864377815829084]\n",
      "0.867896660709 0.643159776411 0.0\n",
      "loss:  0.259888962029\n",
      "validation MAp:  0.911858974359\n",
      "RNSB:  [0.077263949260464898, 0.11344298971548836, 0.055964874976112355]\n",
      "0.797570563081 0.676132937908 0.0\n",
      "loss:  0.252811484682\n",
      "validation MAp:  0.911858974359\n",
      "RNSB:  [0.083522738561904536, 0.12145107141108438, 0.060521999967086404]\n",
      "0.762467616446 0.694121155109 0.0\n",
      "loss:  0.249123670056\n",
      "validation MAp:  0.916666666667\n",
      "RNSB:  [0.086732817180733612, 0.12614752938176954, 0.062824523553033015]\n",
      "0.743962044886 0.70432355888 0.0\n",
      "loss:  0.247073501005\n",
      "validation MAp:  0.916666666667\n",
      "RNSB:  [0.0884157471418687, 0.12900709545451172, 0.063990019533768677]\n",
      "0.73388647626 0.710374291576 0.0\n",
      "loss:  0.24588414493\n",
      "validation MAp:  0.915064102564\n",
      "RNSB:  [0.089318220273715235, 0.13080482264428583, 0.064574734134426326]\n",
      "finished with 9 runs of 20\n",
      "____________________\n",
      "\n",
      "6.67739649477 0.0 0.0\n",
      "loss:  0.690806951397\n",
      "validation MAp:  0.774038461538\n",
      "RNSB:  [1.2339300480010223e-07, 2.1538217748811218e-06, 3.7336228969075155e-07]\n",
      "1.48117739599 0.44793001446 0.0\n",
      "loss:  0.314152368033\n",
      "validation MAp:  0.900641025641\n",
      "RNSB:  [0.042103691315375835, 0.070303770219598216, 0.024796894117420181]\n",
      "1.02567420146 0.58092157382 0.0\n",
      "loss:  0.270950776842\n",
      "validation MAp:  0.911858974359\n",
      "RNSB:  [0.070702205672392049, 0.0966704957543532, 0.041157252371508676]\n",
      "0.869020786914 0.643238951367 0.0\n",
      "loss:  0.255440319466\n",
      "validation MAp:  0.908653846154\n",
      "RNSB:  [0.085265761024020822, 0.11020251938107399, 0.04986102016714105]\n",
      "0.799168243876 0.676129739544 0.0\n",
      "loss:  0.248248152097\n",
      "validation MAp:  0.911858974359\n",
      "RNSB:  [0.092883855576030044, 0.11763815316086354, 0.054426495635125499]\n",
      "0.764335453246 0.694547354311 0.0\n",
      "loss:  0.244504310482\n",
      "validation MAp:  0.911858974359\n",
      "RNSB:  [0.096989055095659041, 0.12192685822370442, 0.056846569321711435]\n",
      "0.745945855155 0.705127772873 0.0\n",
      "loss:  0.242425483988\n",
      "validation MAp:  0.911858974359\n",
      "RNSB:  [0.09926677988670729, 0.12450002040266463, 0.058141436775545112]\n",
      "0.735882337238 0.711439727172 0.0\n",
      "loss:  0.241221230958\n",
      "validation MAp:  0.910256410256\n",
      "RNSB:  [0.10056947137245015, 0.12609839414707227, 0.05883829166082967]\n",
      "finished with 10 runs of 20\n",
      "____________________\n",
      "\n",
      "6.64267776328 0.0 0.0\n",
      "loss:  0.690817228735\n",
      "validation MAp:  0.777243589744\n",
      "RNSB:  [1.2671175571089311e-07, 2.1260232207832281e-06, 3.8364713964100068e-07]\n",
      "1.47006555632 0.44450032135 0.0\n",
      "loss:  0.318683860761\n",
      "validation MAp:  0.900641025641\n",
      "RNSB:  [0.04381969150284365, 0.071568581118725924, 0.026668928924440807]\n",
      "1.01773673897 0.577646650849 0.0\n",
      "loss:  0.276411414961\n",
      "validation MAp:  0.908653846154\n",
      "RNSB:  [0.073813981008203508, 0.09885404990399986, 0.042392400974823843]\n",
      "0.861427497197 0.639400708251 0.0\n",
      "loss:  0.26125833939\n",
      "validation MAp:  0.911858974359\n",
      "RNSB:  [0.088962808995220424, 0.11270638322247649, 0.049862843014500439]\n",
      "0.791492147951 0.671568340361 0.0\n",
      "loss:  0.254240906379\n",
      "validation MAp:  0.911858974359\n",
      "RNSB:  [0.096776180813596069, 0.12023055614260719, 0.053438114781918331]\n",
      "0.756673597129 0.689145260459 0.0\n",
      "loss:  0.25059196527\n",
      "validation MAp:  0.910256410256\n",
      "RNSB:  [0.10091687952547428, 0.12453059223136137, 0.055184690550141489]\n",
      "0.738310953345 0.699176479264 0.0\n",
      "loss:  0.248567516891\n",
      "validation MAp:  0.908653846154\n",
      "RNSB:  [0.10317216076711125, 0.1270952924129588, 0.056046940270898141]\n",
      "0.728284814337 0.70510492876 0.0\n",
      "loss:  0.247395347162\n",
      "validation MAp:  0.908653846154\n",
      "RNSB:  [0.10443668039570915, 0.12868466170966869, 0.056472486703249045]\n"
     ]
    },
    {
     "name": "stdout",
     "output_type": "stream",
     "text": [
      "finished with 11 runs of 20\n",
      "____________________\n",
      "\n",
      "6.66803745093 0.0 0.0\n",
      "loss:  0.69080746858\n",
      "validation MAp:  0.777243589744\n",
      "RNSB:  [1.23582211075302e-07, 2.1341074230939147e-06, 3.7707668168255584e-07]\n",
      "1.48304574403 0.447794229701 0.0\n",
      "loss:  0.314373069254\n",
      "validation MAp:  0.900641025641\n",
      "RNSB:  [0.042211213992051015, 0.067101298975040136, 0.024856872391163871]\n",
      "1.02725737215 0.580983910558 0.0\n",
      "loss:  0.27123737762\n",
      "validation MAp:  0.911858974359\n",
      "RNSB:  [0.07076621045224038, 0.09082694097604195, 0.041180895276751284]\n",
      "0.87024017952 0.643603836965 0.0\n",
      "loss:  0.255752291005\n",
      "validation MAp:  0.910256410256\n",
      "RNSB:  [0.085331929804732323, 0.10261775292458353, 0.049928395150686047]\n",
      "0.800033084813 0.676672794679 0.0\n",
      "loss:  0.248571287778\n",
      "validation MAp:  0.910256410256\n",
      "RNSB:  [0.093016470345454572, 0.10896591695107159, 0.054557558296888617]\n",
      "0.765034467036 0.695002283979 0.0\n",
      "loss:  0.24483265049\n",
      "validation MAp:  0.911858974359\n",
      "RNSB:  [0.097217945315943438, 0.11258998806365621, 0.057037175796977334]\n",
      "0.74653334667 0.705534088164 0.0\n",
      "loss:  0.242756261098\n",
      "validation MAp:  0.911858974359\n",
      "RNSB:  [0.099596200958210701, 0.11476149983517292, 0.058379971744987394]\n",
      "0.736398073831 0.711777995355 0.0\n",
      "loss:  0.241553097008\n",
      "validation MAp:  0.911858974359\n",
      "RNSB:  [0.1009907151709572, 0.11611857374959124, 0.059112493078824935]\n",
      "finished with 12 runs of 20\n",
      "____________________\n",
      "\n",
      "6.67955102009 0.0 0.0\n",
      "loss:  0.690807089603\n",
      "validation MAp:  0.774038461538\n",
      "RNSB:  [1.2209380332943963e-07, 2.157094831683407e-06, 3.728782270982111e-07]\n",
      "1.4809898947 0.447949967623 0.0\n",
      "loss:  0.314202808369\n",
      "validation MAp:  0.902243589744\n",
      "RNSB:  [0.041491961143041614, 0.070259925113126093, 0.024892397788102705]\n",
      "1.02579767153 0.580651900833 0.0\n",
      "loss:  0.271010436807\n",
      "validation MAp:  0.911858974359\n",
      "RNSB:  [0.069401518339751861, 0.096249530213065593, 0.041365211553729353]\n",
      "0.868749569071 0.642861540481 0.0\n",
      "loss:  0.255502154107\n",
      "validation MAp:  0.911858974359\n",
      "RNSB:  [0.083470984546370086, 0.10946684943591868, 0.050131188470960659]\n",
      "0.798745527183 0.675655886534 0.0\n",
      "loss:  0.248310946633\n",
      "validation MAp:  0.911858974359\n",
      "RNSB:  [0.090779648100764235, 0.11670131625062899, 0.05473455376591807]\n",
      "0.763883180618 0.694207439578 0.0\n",
      "loss:  0.244567689647\n",
      "validation MAp:  0.911858974359\n",
      "RNSB:  [0.094704456129785952, 0.12087348433171342, 0.057180914835049154]\n",
      "0.745527383001 0.704921742808 0.0\n",
      "loss:  0.242489245443\n",
      "validation MAp:  0.911858974359\n",
      "RNSB:  [0.096882961531276943, 0.12338312639733753, 0.058494694378733225]\n",
      "0.735504668044 0.711234134211 0.0\n",
      "loss:  0.241285241015\n",
      "validation MAp:  0.911858974359\n",
      "RNSB:  [0.098134525202383624, 0.1249487655920437, 0.059204994967929872]\n",
      "finished with 13 runs of 20\n",
      "____________________\n",
      "\n",
      "6.68509661684 0.0 0.0\n",
      "loss:  0.690808201133\n",
      "validation MAp:  0.777243589744\n",
      "RNSB:  [1.2319384732656271e-07, 2.147287942508436e-06, 3.7646323615030998e-07]\n",
      "1.48148097071 0.448436105239 0.0\n",
      "loss:  0.314701866312\n",
      "validation MAp:  0.899038461538\n",
      "RNSB:  [0.041605935252230372, 0.070523069621042433, 0.024370401120168889]\n",
      "1.02666488074 0.581564616793 0.0\n",
      "loss:  0.271669791364\n",
      "validation MAp:  0.908653846154\n",
      "RNSB:  [0.0691980529840487, 0.096798125491149856, 0.040140774788026079]\n",
      "0.869770302783 0.643612652755 0.0\n",
      "loss:  0.256240711848\n",
      "validation MAp:  0.913461538462\n",
      "RNSB:  [0.082929229912460073, 0.1101920625718114, 0.04847459343678967]\n",
      "0.799760275312 0.67661925015 0.0\n",
      "loss:  0.2490933379\n",
      "validation MAp:  0.911858974359\n",
      "RNSB:  [0.08997159333922472, 0.11755020171667251, 0.052819964511462938]\n",
      "0.764961951994 0.695058600249 0.0\n",
      "loss:  0.245375814089\n",
      "validation MAp:  0.915064102564\n",
      "RNSB:  [0.093700766439331534, 0.12181375146091672, 0.055114615832616898]\n",
      "0.746599541703 0.705583945758 0.0\n",
      "loss:  0.243312979667\n",
      "validation MAp:  0.915064102564\n",
      "RNSB:  [0.095738580850659491, 0.12439158188106152, 0.056340687709978951]\n",
      "0.736560267483 0.711925892932 0.0\n",
      "loss:  0.242118611378\n",
      "validation MAp:  0.915064102564\n",
      "RNSB:  [0.096889757462667259, 0.1260077185095986, 0.057001206311574126]\n",
      "finished with 14 runs of 20\n",
      "____________________\n",
      "\n",
      "6.6748597898 0.0 0.0\n",
      "loss:  0.690812728914\n",
      "validation MAp:  0.775641025641\n",
      "RNSB:  [1.3358974057810203e-07, 2.1790127719936599e-06, 3.7102691294206298e-07]\n",
      "1.46360568504 0.442425647486 0.0\n",
      "loss:  0.316920510923\n",
      "validation MAp:  0.900641025641\n",
      "RNSB:  [0.045037456620603045, 0.074103015179617038, 0.025718803392067578]\n",
      "1.01623168595 0.574162580638 0.0\n",
      "loss:  0.274365579813\n",
      "validation MAp:  0.910256410256\n",
      "RNSB:  [0.074955253284080689, 0.10206323993486185, 0.043487588997580505]\n",
      "0.859937946176 0.63617304081 0.0\n",
      "loss:  0.259097829555\n",
      "validation MAp:  0.913461538462\n",
      "RNSB:  [0.090138065233673903, 0.11600936872982619, 0.05309444566644976]\n",
      "0.789849557863 0.668601314553 0.0\n",
      "loss:  0.252018583677\n",
      "validation MAp:  0.913461538462\n",
      "RNSB:  [0.098144907574472695, 0.12343319326968138, 0.058184833956822973]\n",
      "0.754997406949 0.686410414879 0.0\n",
      "loss:  0.248333362772\n",
      "validation MAp:  0.913461538462\n",
      "RNSB:  [0.10252280825948262, 0.12757491052769224, 0.060910634025560934]\n",
      "0.736594072456 0.69667753062 0.0\n",
      "loss:  0.246286999029\n",
      "validation MAp:  0.913461538462\n",
      "RNSB:  [0.10499711981219241, 0.1299770860074512, 0.062387002324469462]\n",
      "0.726525402065 0.702749033588 0.0\n",
      "loss:  0.245101494705\n",
      "validation MAp:  0.913461538462\n",
      "RNSB:  [0.10644163676329271, 0.1314204505197476, 0.063194094672289203]\n",
      "finished with 15 runs of 20\n",
      "____________________\n",
      "\n",
      "6.67095317207 0.0 0.0\n",
      "loss:  0.690807199934\n",
      "validation MAp:  0.774038461538\n",
      "RNSB:  [1.2445752941921844e-07, 2.1503427519715766e-06, 3.7305974709852228e-07]\n",
      "1.47918043941 0.44740417024 0.0\n",
      "loss:  0.314273559969\n",
      "validation MAp:  0.899038461538\n",
      "RNSB:  [0.042391183258903481, 0.070093335751591088, 0.024158435855424137]\n",
      "1.02539788353 0.580398265035 0.0\n",
      "loss:  0.271092840296\n",
      "validation MAp:  0.911858974359\n",
      "RNSB:  [0.070877786976988377, 0.096107006826136571, 0.039732843059228792]\n",
      "0.868695203315 0.64262155409 0.0\n",
      "loss:  0.255585670934\n",
      "validation MAp:  0.910256410256\n",
      "RNSB:  [0.085268557895700453, 0.10934673028353738, 0.047914969607892835]\n",
      "0.798809349057 0.675565372352 0.0\n",
      "loss:  0.248393743583\n",
      "validation MAp:  0.911858974359\n",
      "RNSB:  [0.092766761788314819, 0.11658761577041894, 0.052161229090722232]\n",
      "0.764004027476 0.69420911492 0.0\n",
      "loss:  0.244649656264\n",
      "validation MAp:  0.911858974359\n",
      "RNSB:  [0.096803702329916502, 0.12075619489695463, 0.054391721671127657]\n",
      "0.745663068019 0.704933345703 0.0\n",
      "loss:  0.242570628992\n",
      "validation MAp:  0.911858974359\n",
      "RNSB:  [0.099047386425414247, 0.12325800823576849, 0.055575431689268963]\n",
      "0.735650306977 0.711251090831 0.0\n",
      "loss:  0.241366309576\n",
      "validation MAp:  0.911858974359\n",
      "RNSB:  [0.10033592947268838, 0.124814937500246, 0.056207356707883988]\n",
      "finished with 16 runs of 20\n",
      "____________________\n",
      "\n",
      "6.67711276234 0.0 0.0\n",
      "loss:  0.690806939978\n",
      "validation MAp:  0.774038461538\n",
      "RNSB:  [1.2336155580002764e-07, 2.1536604848548625e-06, 3.733466504948806e-07]\n",
      "1.48111705556 0.448012290705 0.0\n",
      "loss:  0.314164767821\n",
      "validation MAp:  0.900641025641\n",
      "RNSB:  [0.042133249315437354, 0.070458481008806806, 0.024965194770140149]\n",
      "1.02654412683 0.581078565997 0.0\n",
      "loss:  0.270965665539\n",
      "validation MAp:  0.910256410256\n",
      "RNSB:  [0.070600887227286552, 0.096809804973602157, 0.041445829468117978]\n",
      "0.869742159939 0.643353055383 0.0\n",
      "loss:  0.255452365319\n",
      "validation MAp:  0.907051282051\n",
      "RNSB:  [0.085038577213787742, 0.11028113651495119, 0.050214346167227343]\n",
      "0.799642079489 0.676347225725 0.0\n",
      "loss:  0.24825740111\n",
      "validation MAp:  0.910256410256\n",
      "RNSB:  [0.092580423593104214, 0.11767272516016133, 0.054823478412654801]\n",
      "0.764762501762 0.694785180428 0.0\n",
      "loss:  0.244511436489\n",
      "validation MAp:  0.910256410256\n",
      "RNSB:  [0.096648371212873868, 0.12193695679716095, 0.057276054594221318]\n",
      "0.746340674247 0.705411622372 0.0\n",
      "loss:  0.242431097387\n",
      "validation MAp:  0.910256410256\n",
      "RNSB:  [0.098912591135310007, 0.12449849532361733, 0.058595054727858344]\n",
      "0.736256163881 0.71173333963 0.0\n",
      "loss:  0.241225801436\n",
      "validation MAp:  0.910256410256\n",
      "RNSB:  [0.10021442905207474, 0.12609232726738068, 0.059309282346144632]\n",
      "finished with 17 runs of 20\n",
      "____________________\n",
      "\n",
      "6.68131572318 0.0 0.0\n",
      "loss:  0.690807412741\n",
      "validation MAp:  0.774038461538\n",
      "RNSB:  [1.2323544552192357e-07, 2.136683076939292e-06, 3.6163558307750697e-07]\n",
      "1.4803030671 0.447627939655 0.0\n",
      "loss:  0.314380909144\n",
      "validation MAp:  0.900641025641\n",
      "RNSB:  [0.041292006807874634, 0.068662534098138564, 0.022880262200999729]\n"
     ]
    },
    {
     "name": "stdout",
     "output_type": "stream",
     "text": [
      "1.02622628714 0.580683225618 0.0\n",
      "loss:  0.271185370386\n",
      "validation MAp:  0.911858974359\n",
      "RNSB:  [0.068807297713446278, 0.09390065757136809, 0.037551636173416211]\n",
      "0.869432945698 0.643510021476 0.0\n",
      "loss:  0.255663305601\n",
      "validation MAp:  0.908653846154\n",
      "RNSB:  [0.082675223634539871, 0.10677448271738092, 0.045178259884079072]\n",
      "0.799540425165 0.676362230968 0.0\n",
      "loss:  0.248461903949\n",
      "validation MAp:  0.910256410256\n",
      "RNSB:  [0.0898935019446645, 0.11383377897882095, 0.049115847956567024]\n",
      "0.764633857688 0.694604204913 0.0\n",
      "loss:  0.244712196483\n",
      "validation MAp:  0.910256410256\n",
      "RNSB:  [0.093775536734451798, 0.11790595227803646, 0.051179567240120891]\n",
      "0.746190188557 0.705096131855 0.0\n",
      "loss:  0.242629976159\n",
      "validation MAp:  0.907051282051\n",
      "RNSB:  [0.0959297415484998, 0.12035227243923073, 0.052273555276391451]\n",
      "0.736095075656 0.711352090101 0.0\n",
      "loss:  0.241423950399\n",
      "validation MAp:  0.907051282051\n",
      "RNSB:  [0.097164126633578041, 0.12187449247807898, 0.052857153582655886]\n",
      "finished with 18 runs of 20\n",
      "____________________\n",
      "\n",
      "6.67717262157 0.0 0.0\n",
      "loss:  0.690807214554\n",
      "validation MAp:  0.775641025641\n",
      "RNSB:  [1.2245912905913599e-07, 2.1490902308318065e-06, 3.7709217905136563e-07]\n",
      "1.47875665798 0.447770753981 0.0\n",
      "loss:  0.314222149726\n",
      "validation MAp:  0.899038461538\n",
      "RNSB:  [0.041527153802203495, 0.070426627413268716, 0.025233376342434111]\n",
      "1.02477111843 0.58040209319 0.0\n",
      "loss:  0.271023662105\n",
      "validation MAp:  0.913461538462\n",
      "RNSB:  [0.069503063819017455, 0.096725997329489777, 0.041592315016400871]\n",
      "0.868130294534 0.642509259184 0.0\n",
      "loss:  0.255515507343\n",
      "validation MAp:  0.910256410256\n",
      "RNSB:  [0.083617832333323122, 0.11017665554242015, 0.050191325386135049]\n",
      "0.798111777466 0.675353311545 0.0\n",
      "loss:  0.248326142347\n",
      "validation MAp:  0.911858974359\n",
      "RNSB:  [0.090941662203616241, 0.11757763660540337, 0.054671156832494537]\n",
      "0.763206195168 0.693760632486 0.0\n",
      "loss:  0.244585082407\n",
      "validation MAp:  0.910256410256\n",
      "RNSB:  [0.0948616937219115, 0.12186745429563846, 0.057038063774707257]\n",
      "0.744788683583 0.704291093637 0.0\n",
      "loss:  0.242508741586\n",
      "validation MAp:  0.910256410256\n",
      "RNSB:  [0.097025232788460522, 0.12445988992684721, 0.058303569652388511]\n",
      "0.734738870276 0.710575709201 0.0\n",
      "loss:  0.241306596667\n",
      "validation MAp:  0.911858974359\n",
      "RNSB:  [0.098258163741578655, 0.12608370296030333, 0.058985496449879639]\n",
      "finished with 19 runs of 20\n",
      "____________________\n",
      "\n"
     ]
    }
   ],
   "source": [
    "lr_metrics, og_lr = run_loo_experiment(20)"
   ]
  },
  {
   "cell_type": "markdown",
   "metadata": {},
   "source": [
    "## Plotting PCA"
   ]
  },
  {
   "cell_type": "code",
   "execution_count": 60,
   "metadata": {},
   "outputs": [
    {
     "name": "stdout",
     "output_type": "stream",
     "text": [
      "[0.092311371883555621, 0.11688152001649456, 0.053999201866523121]\n",
      "0.830128205128\n",
      "0.908653846154\n",
      "0.871794871795\n",
      "0.899038461538\n",
      "0.921474358974\n",
      "0.839743589744\n",
      "0.905448717949\n",
      "0.911858974359\n",
      "0.910256410256\n",
      "0.915064102564\n",
      "0.910256410256\n",
      "0.908653846154\n",
      "0.910256410256\n",
      "0.911858974359\n",
      "0.913461538462\n",
      "0.913461538462\n",
      "0.911858974359\n",
      "0.910256410256\n",
      "0.908653846154\n",
      "0.911858974359\n"
     ]
    },
    {
     "data": {
      "image/png": "[encoded data removed]",
      "text/plain": [
       "<matplotlib.figure.Figure at 0x13c48aeb8>"
      ]
     },
     "metadata": {},
     "output_type": "display_data"
    },
    {
     "data": {
      "image/png": "[encoded data removed]",
      "text/plain": [
       "<matplotlib.figure.Figure at 0x13f48a630>"
      ]
     },
     "metadata": {},
     "output_type": "display_data"
    },
    {
     "data": {
      "image/png": "[encoded data removed]",
      "text/plain": [
       "<matplotlib.figure.Figure at 0x13f47fdd8>"
      ]
     },
     "metadata": {},
     "output_type": "display_data"
    }
   ],
   "source": [
    "def plot_RNSB_bar(lr_list, og_lr):\n",
    "    \n",
    "    rnsb_list = [i.validation_fairness() for i in lr_list]\n",
    "    metric_a, metric_b, metric_c  = zip(*rnsb_list)\n",
    "    \n",
    "#     identity_toxicity = dict(identity_toxicity_table(nationalities,embeddings,lr))\n",
    "#     identity_toxicity = list(zip(*identity_toxicity.items()))\n",
    "    \n",
    "    %matplotlib inline\n",
    "    plt.figure(figsize=(6,4))\n",
    "    plt.title(\"National Origin\",fontsize=20)\n",
    "    index = np.arange(len(metric_a)) + 1\n",
    "    plt.bar(index,metric_a)\n",
    "    plt.xticks(index, index, fontsize=15, rotation=45)\n",
    "    plt.axes().axhline(y=og_lr.validation_fairness()[0], color=\"gray\")\n",
    "    plt.ylabel(\"RNSB\",fontsize=16)\n",
    "    plt.xlabel(\"nth-largest singular vector removed\",fontsize=16)\n",
    "    plt.show()\n",
    "    \n",
    "    %matplotlib inline\n",
    "    plt.figure(figsize=(6,4))\n",
    "    plt.title(\"Religion\",fontsize=20)\n",
    "    index = np.arange(len(metric_b)) + 1\n",
    "    plt.bar(index,metric_b)\n",
    "    plt.xticks(index, index, fontsize=15, rotation=45)\n",
    "    plt.axes().axhline(y=og_lr.validation_fairness()[1], color=\"gray\")\n",
    "    plt.ylabel(\"RNSB\",fontsize=16)\n",
    "    plt.xlabel(\"nth-largest singular vector removed\",fontsize=16)\n",
    "    plt.show()\n",
    "    \n",
    "    \n",
    "    %matplotlib inline\n",
    "    plt.figure(figsize=(6,4))\n",
    "    plt.title(\"Gender\",fontsize=20)\n",
    "    index = np.arange(len(metric_c)) + 1\n",
    "    plt.bar(index,metric_c)\n",
    "    plt.xticks(index, index, fontsize=15, rotation=45)\n",
    "    plt.axes().axhline(y=og_lr.validation_fairness()[2], color=\"gray\")\n",
    "    plt.ylabel(\"RNSB\",fontsize=16)\n",
    "    plt.xlabel(\"nth-largest singular vector removed\",fontsize=16)\n",
    "    plt.show()\n",
    "\n",
    "    \n",
    "print(og_lr.validation_fairness())\n",
    "for lr in lr_metrics:\n",
    "    print(lr.validation(lr.val[0],lr.val[1]))\n",
    "plot_RNSB_bar(lr_metrics, og_lr)\n",
    "\n"
   ]
  },
  {
   "cell_type": "code",
   "execution_count": 61,
   "metadata": {},
   "outputs": [
    {
     "data": {
      "image/png": "[encoded data removed]",
      "text/plain": [
       "<matplotlib.figure.Figure at 0x13f47fe10>"
      ]
     },
     "metadata": {},
     "output_type": "display_data"
    },
    {
     "data": {
      "image/png": "[encoded data removed]",
      "text/plain": [
       "<matplotlib.figure.Figure at 0x13ffd19e8>"
      ]
     },
     "metadata": {},
     "output_type": "display_data"
    },
    {
     "data": {
      "image/png": "[encoded data removed]",
      "text/plain": [
       "<matplotlib.figure.Figure at 0x13ffd97f0>"
      ]
     },
     "metadata": {},
     "output_type": "display_data"
    }
   ],
   "source": [
    "def annotate_data(labels, points, plt):\n",
    "    \n",
    "    for label, point in zip(labels, points):\n",
    "        plt.annotate(label,xy=point,fontsize=15)\n",
    "    \n",
    "\n",
    "def plot_RNSB_scatter(lr_list, og_lr):\n",
    "    \n",
    "    rnsb_list = [lr.validation_fairness() for lr in lr_list]\n",
    "    validation_list = [lr.validation(lr.val[0],lr.val[1]) for lr in lr_list]\n",
    "    metric_a, metric_b, metric_c  = zip(*rnsb_list)\n",
    "    \n",
    "    og_rnsb_a, og_rnsb_b, og_rnsb_c = og_lr.validation_fairness()\n",
    "    og_validation = og_lr.validation(og_lr.val[0],og_lr.val[1])\n",
    "    \n",
    "    %matplotlib inline\n",
    "    plt.figure(figsize=(6,4))\n",
    "    plt.title(\"National Origin\",fontsize=20)\n",
    "    plt.xlabel(\"Validation Accuracy\")\n",
    "    plt.ylabel(\"RNSB\")\n",
    "    plt.scatter(validation_list, metric_a)\n",
    "    plt.scatter(og_validation, og_rnsb_a, color=\"red\")\n",
    "    plt.axes().axhline(y=og_rnsb_a, color=\"gray\")\n",
    "    plt.axes().axvline(x=og_validation, color=\"gray\")\n",
    "    annotate_data([str(i+1) for i in range(len(lr_list))], zip(validation_list, metric_a), plt)\n",
    "    plt.show()\n",
    "    \n",
    "    %matplotlib inline\n",
    "    plt.figure(figsize=(6,4))\n",
    "    plt.title(\"Religion\",fontsize=20)\n",
    "    plt.xlabel(\"Validation Accuracy\")\n",
    "    plt.ylabel(\"RNSB\")\n",
    "    plt.scatter(validation_list, metric_b)\n",
    "    plt.scatter(og_validation, og_rnsb_b, color=\"red\")\n",
    "    plt.axes().axhline(y=og_rnsb_b, color=\"gray\")\n",
    "    plt.axes().axvline(x=og_validation, color=\"gray\")\n",
    "    annotate_data([str(i+1) for i in range(len(lr_list))], zip(validation_list, metric_b), plt)\n",
    "    plt.show()\n",
    "    \n",
    "    %matplotlib inline\n",
    "    plt.figure(figsize=(6,4))\n",
    "    plt.title(\"Gender\",fontsize=20)\n",
    "    plt.xlabel(\"Validation Accuracy\")\n",
    "    plt.ylabel(\"RNSB\")\n",
    "    plt.scatter(validation_list, metric_c)\n",
    "    plt.scatter(og_validation, og_rnsb_c, color=\"red\")\n",
    "    plt.axes().axhline(y=og_rnsb_c, color=\"gray\")\n",
    "    plt.axes().axvline(x=og_validation, color=\"gray\")\n",
    "    annotate_data([str(i+1) for i in range(len(lr_list))], zip(validation_list, metric_c), plt)\n",
    "    plt.show()\n",
    "    \n",
    "    \n",
    "plot_RNSB_scatter(lr_metrics, og_lr)\n"
   ]
  },
  {
   "cell_type": "markdown",
   "metadata": {},
   "source": [
    "## Plot RNSB vs Accuracy for Reg and PCA"
   ]
  },
  {
   "cell_type": "code",
   "execution_count": 73,
   "metadata": {},
   "outputs": [
    {
     "name": "stdout",
     "output_type": "stream",
     "text": [
      "6.67731607316 0.0 260.230511771\n",
      "loss:  0.680765173817\n",
      "validation MAp:  0.559294871795\n",
      "RNSB:  [0.001136268238864693, 0.019059643529175774, 0.0069855950655610972]\n",
      "2.06924401028 0.635108924153 1.64959396997\n",
      "loss:  0.3607926851\n",
      "validation MAp:  0.841346153846\n",
      "RNSB:  [0.049511161519375221, 0.2007048659848033, 0.064820225578583565]\n"
     ]
    },
    {
     "ename": "KeyboardInterrupt",
     "evalue": "",
     "output_type": "error",
     "traceback": [
      "\u001b[0;31m---------------------------------------------------------------------------\u001b[0m",
      "\u001b[0;31mKeyboardInterrupt\u001b[0m                         Traceback (most recent call last)",
      "\u001b[0;32m<ipython-input-73-f1065b33e7f9>\u001b[0m in \u001b[0;36m<module>\u001b[0;34m()\u001b[0m\n\u001b[1;32m      4\u001b[0m \u001b[0;32mfor\u001b[0m \u001b[0mrc\u001b[0m \u001b[0;32min\u001b[0m \u001b[0mreg_coeffs\u001b[0m\u001b[0;34m:\u001b[0m\u001b[0;34m\u001b[0m\u001b[0m\n\u001b[1;32m      5\u001b[0m     \u001b[0mlr_debias\u001b[0m \u001b[0;34m=\u001b[0m \u001b[0mLogisticRegression\u001b[0m\u001b[0;34m(\u001b[0m\u001b[0mval\u001b[0m\u001b[0;34m=\u001b[0m\u001b[0;34m(\u001b[0m\u001b[0mtest_vectors\u001b[0m\u001b[0;34m,\u001b[0m\u001b[0mtest_targets\u001b[0m\u001b[0;34m)\u001b[0m\u001b[0;34m,\u001b[0m\u001b[0mX_tils\u001b[0m \u001b[0;34m=\u001b[0m \u001b[0mregularizers\u001b[0m\u001b[0;34m,\u001b[0m\u001b[0mreg_coeff\u001b[0m\u001b[0;34m=\u001b[0m\u001b[0mrc\u001b[0m\u001b[0;34m,\u001b[0m\u001b[0mlamb\u001b[0m\u001b[0;34m=\u001b[0m\u001b[0;36m0.01\u001b[0m\u001b[0;34m,\u001b[0m\u001b[0mnum_iter\u001b[0m\u001b[0;34m=\u001b[0m\u001b[0;36m8000\u001b[0m\u001b[0;34m)\u001b[0m\u001b[0;34m\u001b[0m\u001b[0m\n\u001b[0;32m----> 6\u001b[0;31m     \u001b[0;34m(\u001b[0m\u001b[0mRNSB_debias\u001b[0m\u001b[0;34m,\u001b[0m\u001b[0mloss_debias\u001b[0m\u001b[0;34m,\u001b[0m\u001b[0mvalidation_scores_debias\u001b[0m\u001b[0;34m)\u001b[0m \u001b[0;34m=\u001b[0m \u001b[0mlr_debias\u001b[0m\u001b[0;34m.\u001b[0m\u001b[0mfit\u001b[0m\u001b[0;34m(\u001b[0m\u001b[0mtrain_vectors\u001b[0m\u001b[0;34m,\u001b[0m\u001b[0mtrain_targets\u001b[0m\u001b[0;34m)\u001b[0m\u001b[0;34m\u001b[0m\u001b[0m\n\u001b[0m\u001b[1;32m      7\u001b[0m     \u001b[0mlr_debias_list\u001b[0m\u001b[0;34m.\u001b[0m\u001b[0mappend\u001b[0m\u001b[0;34m(\u001b[0m\u001b[0mlr_debias\u001b[0m\u001b[0;34m)\u001b[0m\u001b[0;34m\u001b[0m\u001b[0m\n\u001b[1;32m      8\u001b[0m \u001b[0;34m\u001b[0m\u001b[0m\n",
      "\u001b[0;32m<ipython-input-13-4dddd6e4be51>\u001b[0m in \u001b[0;36mfit\u001b[0;34m(self, X, y)\u001b[0m\n\u001b[1;32m     31\u001b[0m         \u001b[0mvalidation_scores\u001b[0m \u001b[0;34m=\u001b[0m \u001b[0;34m[\u001b[0m\u001b[0;34m]\u001b[0m\u001b[0;34m\u001b[0m\u001b[0m\n\u001b[1;32m     32\u001b[0m         \u001b[0;32mfor\u001b[0m \u001b[0mi\u001b[0m \u001b[0;32min\u001b[0m \u001b[0mrange\u001b[0m\u001b[0;34m(\u001b[0m\u001b[0mself\u001b[0m\u001b[0;34m.\u001b[0m\u001b[0mnum_iter\u001b[0m\u001b[0;34m)\u001b[0m\u001b[0;34m:\u001b[0m\u001b[0;34m\u001b[0m\u001b[0m\n\u001b[0;32m---> 33\u001b[0;31m             \u001b[0mz\u001b[0m \u001b[0;34m=\u001b[0m \u001b[0mnp\u001b[0m\u001b[0;34m.\u001b[0m\u001b[0mdot\u001b[0m\u001b[0;34m(\u001b[0m\u001b[0mX\u001b[0m\u001b[0;34m,\u001b[0m \u001b[0mself\u001b[0m\u001b[0;34m.\u001b[0m\u001b[0mtheta\u001b[0m\u001b[0;34m)\u001b[0m\u001b[0;34m\u001b[0m\u001b[0m\n\u001b[0m\u001b[1;32m     34\u001b[0m             \u001b[0mh\u001b[0m \u001b[0;34m=\u001b[0m \u001b[0mself\u001b[0m\u001b[0;34m.\u001b[0m\u001b[0m__sigmoid\u001b[0m\u001b[0;34m(\u001b[0m\u001b[0mz\u001b[0m\u001b[0;34m)\u001b[0m\u001b[0;34m\u001b[0m\u001b[0m\n\u001b[1;32m     35\u001b[0m             \u001b[0mr\u001b[0m \u001b[0;34m=\u001b[0m \u001b[0mself\u001b[0m\u001b[0;34m.\u001b[0m\u001b[0mcalculate_fairness_reg_grad\u001b[0m\u001b[0;34m(\u001b[0m\u001b[0mself\u001b[0m\u001b[0;34m.\u001b[0m\u001b[0mtheta\u001b[0m\u001b[0;34m)\u001b[0m\u001b[0;34m\u001b[0m\u001b[0m\n",
      "\u001b[0;31mKeyboardInterrupt\u001b[0m: "
     ]
    }
   ],
   "source": [
    "reg_coeffs = [[.2,.2,.2], [.2,0,0], [0,.2,0],[0,0,.2]]\n",
    "\n",
    "lr_debias_list = []\n",
    "for rc in reg_coeffs:\n",
    "    lr_debias = LogisticRegression(val=(test_vectors,test_targets),X_tils = regularizers,reg_coeff=rc,lamb=0.01,num_iter=8000)\n",
    "    (RNSB_debias,loss_debias,validation_scores_debias) = lr_debias.fit(train_vectors,train_targets)\n",
    "    lr_debias_list.append(lr_debias)\n",
    "    \n"
   ]
  },
  {
   "cell_type": "code",
   "execution_count": 72,
   "metadata": {},
   "outputs": [
    {
     "name": "stdout",
     "output_type": "stream",
     "text": [
      "[0.87179487179487181, 0.87179487179487181, 0.87179487179487181, 0.87179487179487181]\n"
     ]
    },
    {
     "data": {
      "image/png": "[encoded data removed]",
      "text/plain": [
       "<matplotlib.figure.Figure at 0x168e3d6d8>"
      ]
     },
     "metadata": {},
     "output_type": "display_data"
    },
    {
     "data": {
      "image/png": "[encoded data removed]",
      "text/plain": [
       "<matplotlib.figure.Figure at 0x1409353c8>"
      ]
     },
     "metadata": {},
     "output_type": "display_data"
    },
    {
     "data": {
      "image/png": "[encoded data removed]",
      "text/plain": [
       "<matplotlib.figure.Figure at 0x14172e198>"
      ]
     },
     "metadata": {},
     "output_type": "display_data"
    }
   ],
   "source": [
    "def annotate_data(labels, points, plt):\n",
    "    \n",
    "    for label, point in zip(labels, points):\n",
    "        plt.annotate(label,xy=point,fontsize=15)\n",
    "    \n",
    "\n",
    "def plot_RNSB_scatter(lr_list, og_lr, lr_debias_list):\n",
    "    \n",
    "    rnsb_list = [lr.validation_fairness() for lr in lr_list]\n",
    "    validation_list = [lr.validation(lr.val[0],lr.val[1]) for lr in lr_list]\n",
    "    metric_a, metric_b, metric_c  = zip(*rnsb_list)\n",
    "    \n",
    "    og_rnsb_a, og_rnsb_b, og_rnsb_c = og_lr.validation_fairness()\n",
    "    og_validation = og_lr.validation(og_lr.val[0],og_lr.val[1])\n",
    "    \n",
    "    reg_rnsb_list= [lr.validation_fairness() for lr in lr_debias_list]\n",
    "    reg_validation_list = [lr.validation(lr.val[0],lr.val[1]) for lr in lr_debias_list]\n",
    "    reg_metric_a, reg_metric_b, reg_metric_c  = zip(*reg_rnsb_list)\n",
    "    \n",
    "    print(reg_validation_list)\n",
    "\n",
    "#     debias_rnsb_a, debias_rnsb_b, debias_rnsb_c = lr_debias.validation_fairness()\n",
    "#     debias_validation = lr_debias.validation(lr_debias.val[0],lr_debias.val[1])\n",
    "    \n",
    "    %matplotlib inline\n",
    "    plt.figure(figsize=(6,4))\n",
    "    plt.title(\"National Origin\",fontsize=20)\n",
    "    plt.xlabel(\"Validation Accuracy\")\n",
    "    plt.ylabel(\"RNSB\")\n",
    "    plt.scatter(validation_list, metric_a)\n",
    "    plt.scatter(og_validation, og_rnsb_a, color=\"red\")\n",
    "    plt.scatter(reg_validation_list, reg_metric_a, color=\"green\")\n",
    "#     plt.scatter(debias_validation, debias_rnsb_a, color=\"green\")\n",
    "    plt.axes().axhline(y=og_rnsb_a, color=\"gray\")\n",
    "    plt.axes().axvline(x=og_validation, color=\"gray\")\n",
    "    annotate_data([str(i+1) for i in range(len(lr_list))], zip(validation_list, metric_a), plt)\n",
    "    plt.show()\n",
    "    \n",
    "    %matplotlib inline\n",
    "    plt.figure(figsize=(6,4))\n",
    "    plt.title(\"Religion\",fontsize=20)\n",
    "    plt.xlabel(\"Validation Accuracy\")\n",
    "    plt.ylabel(\"RNSB\")\n",
    "    plt.scatter(validation_list, metric_b)\n",
    "    plt.scatter(og_validation, og_rnsb_b, color=\"red\")\n",
    "    plt.scatter(reg_validation_list, reg_metric_b, color=\"green\")\n",
    "#     plt.scatter(debias_validation, debias_rnsb_b, color=\"green\")\n",
    "    plt.axes().axhline(y=og_rnsb_b, color=\"gray\")\n",
    "    plt.axes().axvline(x=og_validation, color=\"gray\")\n",
    "    annotate_data([str(i+1) for i in range(len(lr_list))], zip(validation_list, metric_b), plt)\n",
    "    plt.show()\n",
    "    \n",
    "    %matplotlib inline\n",
    "    plt.figure(figsize=(6,4))\n",
    "    plt.title(\"Gender\",fontsize=20)\n",
    "    plt.xlabel(\"Validation Accuracy\")\n",
    "    plt.ylabel(\"RNSB\")\n",
    "    plt.scatter(validation_list, metric_c)\n",
    "    plt.scatter(og_validation, og_rnsb_c, color=\"red\")\n",
    "    plt.scatter(reg_validation_list, reg_metric_c, color=\"green\")\n",
    "#     plt.scatter(debias_validation, debias_rnsb_c, color=\"green\")\n",
    "    plt.axes().axhline(y=og_rnsb_c, color=\"gray\")\n",
    "    plt.axes().axvline(x=og_validation, color=\"gray\")\n",
    "    annotate_data([str(i+1) for i in range(len(lr_list))], zip(validation_list, metric_c), plt)\n",
    "    plt.show()\n",
    "    \n",
    "    \n",
    "plot_RNSB_scatter(lr_metrics, og_lr, lr_debias_list)"
   ]
  },
  {
   "cell_type": "markdown",
   "metadata": {},
   "source": [
    "## Plotting PCA"
   ]
  },
  {
   "cell_type": "markdown",
   "metadata": {},
   "source": [
    "## Create fair regression terms"
   ]
  },
  {
   "cell_type": "code",
   "execution_count": 36,
   "metadata": {
    "collapsed": true
   },
   "outputs": [],
   "source": [
    "N = np.zeros((len(nationalities),300))\n",
    "for i,j in enumerate(nationalities):\n",
    "    N[i,:] = embeddings[j.lower()]\n",
    "R = np.zeros((len(religions),300))\n",
    "for i,j in enumerate(religions):\n",
    "    R[i,:] = embeddings[j.lower()]\n",
    "G = np.zeros((len(gender),300))\n",
    "for i,j in enumerate(gender):\n",
    "    G[i,:] = embeddings[j.lower()]\n",
    "regularizers = [N,R,G]"
   ]
  },
  {
   "cell_type": "markdown",
   "metadata": {},
   "source": [
    "## train LR"
   ]
  },
  {
   "cell_type": "code",
   "execution_count": null,
   "metadata": {
    "collapsed": true
   },
   "outputs": [],
   "source": [
    "# for i in range(20):\n",
    "#     # Create new train/test split, because using \"new\" training data each time\n",
    "#     print(\"removing pca component: \" + str(i))\n",
    "#     train_vectors, test_vectors, train_targets, test_targets, train_labels, test_labels = \\\n",
    "#         train_test_split(vectors, targets, labels, test_size=0.1, random_state=0)\n",
    "        \n",
    "#     lr = LogisticRegression(val=(test_vectors,test_targets),X_tils = regularizers,reg_coeff=[0,0,0],lamb=0.01,num_iter=8000)\n",
    "#     (RNSB,loss,validation_scores) = lr.fit(train_vectors,train_targets)\n",
    "    \n",
    "    "
   ]
  },
  {
   "cell_type": "code",
   "execution_count": 62,
   "metadata": {},
   "outputs": [
    {
     "name": "stdout",
     "output_type": "stream",
     "text": [
      "6.67731607316 0.0 0.0\n",
      "loss:  0.690806938888\n",
      "validation MAp:  0.774038461538\n",
      "RNSB:  [1.2337028740690939e-07, 2.1538976197832401e-06, 3.7378536644028877e-07]\n",
      "1.48099565479 0.447926492306 0.0\n",
      "loss:  0.314153624448\n",
      "validation MAp:  0.900641025641\n",
      "RNSB:  [0.042099657028117535, 0.070295260016458527, 0.024795884737000493]\n",
      "1.0262187447 0.580921375259 0.0\n",
      "loss:  0.270939466524\n",
      "validation MAp:  0.911858974359\n",
      "RNSB:  [0.070477078261294041, 0.096361227460164553, 0.040996409070636078]\n",
      "0.869473784181 0.64328313835 0.0\n",
      "loss:  0.255417367627\n",
      "validation MAp:  0.908653846154\n",
      "RNSB:  [0.084833309095563539, 0.10962604330265141, 0.049544524539065243]\n",
      "0.79944958162 0.676150236884 0.0\n",
      "loss:  0.248217331511\n",
      "validation MAp:  0.910256410256\n",
      "RNSB:  [0.092316749845374621, 0.11688692489075223, 0.054002381815219422]\n",
      "0.764590968206 0.694675093018 0.0\n",
      "loss:  0.244468401513\n",
      "validation MAp:  0.911858974359\n",
      "RNSB:  [0.096345785711472204, 0.12107257414937814, 0.056357324353806006]\n",
      "0.746177897426 0.705358322388 0.0\n",
      "loss:  0.2423863211\n",
      "validation MAp:  0.910256410256\n",
      "RNSB:  [0.098584662989865166, 0.1235882618177651, 0.057615446030638569]\n",
      "0.73609755419 0.711679989748 0.0\n",
      "loss:  0.241180012038\n",
      "validation MAp:  0.910256410256\n",
      "RNSB:  [0.099870032996946176, 0.12515590514643635, 0.05829254809698084]\n",
      "----------------------------------------------\n",
      "6.67731607316 0.0 260.230511771\n",
      "loss:  0.680765173817\n",
      "validation MAp:  0.559294871795\n",
      "RNSB:  [0.001136268238864693, 0.019059643529175774, 0.0069855950655610972]\n",
      "2.06924401028 0.635108924153 1.64959396997\n",
      "loss:  0.3607926851\n",
      "validation MAp:  0.841346153846\n",
      "RNSB:  [0.049511161519375221, 0.2007048659848033, 0.064820225578583565]\n",
      "1.56804604778 0.748051720244 1.38866791567\n",
      "loss:  0.31400766145\n",
      "validation MAp:  0.860576923077\n",
      "RNSB:  [0.034118563908034173, 0.15928696753101862, 0.042399278394365428]\n",
      "1.39258938929 0.805635087507 1.29964323185\n",
      "loss:  0.296833691486\n",
      "validation MAp:  0.865384615385\n",
      "RNSB:  [0.02818205853936637, 0.13948725152247121, 0.035253956851152707]\n",
      "1.31288895643 0.837518943357 1.25998494299\n",
      "loss:  0.288719208156\n",
      "validation MAp:  0.866987179487\n",
      "RNSB:  [0.025109008715817293, 0.12743159437388335, 0.032648208976355925]\n",
      "1.27294895261 0.855399707134 1.24001393321\n",
      "loss:  0.284430656328\n",
      "validation MAp:  0.870192307692\n",
      "RNSB:  [0.023382653329975051, 0.11914625952189063, 0.031507404849350454]\n",
      "1.25146368278 0.865989965766 1.22904129903\n",
      "loss:  0.282013130587\n",
      "validation MAp:  0.871794871795\n",
      "RNSB:  [0.022389791889493374, 0.11328206398419517, 0.030926390463506651]\n",
      "1.23940605637 0.872730134049 1.22270745673\n",
      "loss:  0.280590536767\n",
      "validation MAp:  0.871794871795\n",
      "RNSB:  [0.021810715194509354, 0.10908870583604278, 0.030595206786133401]\n"
     ]
    }
   ],
   "source": [
    "lr = LogisticRegression(val=(test_vectors,test_targets),X_tils = regularizers,reg_coeff=[0,0,0],lamb=0.01,num_iter=8000)\n",
    "(RNSB,loss,validation_scores) = lr.fit(train_vectors,train_targets)\n",
    "print(\"----------------------------------------------\")\n",
    "lr_debias = LogisticRegression(val=(test_vectors,test_targets),X_tils = regularizers,reg_coeff=[.2,.2,.2],lamb=0.01,num_iter=8000)\n",
    "(RNSB_debias,loss_debias,validation_scores_debias) = lr_debias.fit(train_vectors,train_targets)"
   ]
  },
  {
   "cell_type": "markdown",
   "metadata": {},
   "source": [
    "## plot toxicity histogram for identity terms"
   ]
  },
  {
   "cell_type": "code",
   "execution_count": null,
   "metadata": {
    "collapsed": true
   },
   "outputs": [],
   "source": [
    "lr_debias.validation_fairness(),lr.validation_fairness()\n"
   ]
  },
  {
   "cell_type": "code",
   "execution_count": null,
   "metadata": {
    "collapsed": true
   },
   "outputs": [],
   "source": [
    "identity_toxicity = dict(identity_toxicity_table(gender,embeddings,lr))\n",
    "identity_toxicity = zip(*identity_toxicity.items())\n",
    "%matplotlib inline\n",
    "plt.figure()\n",
    "plt.title(\"Toxicity Classification Distribution\",fontsize=20)\n",
    "index = np.arange(len(identity_toxicity[0]))\n",
    "plt.bar(index,identity_toxicity[1]/np.sum(identity_toxicity[1]))\n",
    "plt.xticks(index, identity_toxicity[0], fontsize=15, rotation=45)\n",
    "plt.show()"
   ]
  },
  {
   "cell_type": "code",
   "execution_count": null,
   "metadata": {
    "collapsed": true
   },
   "outputs": [],
   "source": [
    "terms= []\n",
    "for i in nationalities:\n",
    "    terms.append(\"i love \" + i + \" food\")"
   ]
  },
  {
   "cell_type": "code",
   "execution_count": null,
   "metadata": {
    "collapsed": true
   },
   "outputs": [],
   "source": [
    "identity_toxicity = dict(identity_toxicity_table(terms,embeddings,lr))\n",
    "identity_toxicity = zip(*identity_toxicity.items())\n",
    "%matplotlib inline\n",
    "plt.figure()\n",
    "plt.title(\"Toxicity Classification Distribution\",fontsize=20)\n",
    "index = np.arange(len(identity_toxicity[0]))\n",
    "plt.bar(index,identity_toxicity[1]/np.sum(identity_toxicity[1]))\n",
    "plt.xticks(index, identity_toxicity[0], fontsize=15, rotation=45)\n",
    "plt.show()"
   ]
  },
  {
   "cell_type": "code",
   "execution_count": null,
   "metadata": {
    "collapsed": true
   },
   "outputs": [],
   "source": [
    "identity_toxicity = dict(identity_toxicity_table(terms,embeddings,lr_debias))\n",
    "identity_toxicity = zip(*identity_toxicity.items())\n",
    "%matplotlib inline\n",
    "plt.figure()\n",
    "plt.title(\"Toxicity Classification Distribution\",fontsize=20)\n",
    "index = np.arange(len(identity_toxicity[0]))\n",
    "plt.bar(index,identity_toxicity[1]/np.sum(identity_toxicity[1]))\n",
    "plt.xticks(index, identity_toxicity[0], fontsize=15, rotation=45)\n",
    "plt.show()"
   ]
  },
  {
   "cell_type": "code",
   "execution_count": null,
   "metadata": {
    "collapsed": true
   },
   "outputs": [],
   "source": [
    "identity_toxicity = dict(identity_toxicity_table(gender,embeddings,lr_debias))\n",
    "identity_toxicity = zip(*identity_toxicity.items())\n",
    "%matplotlib inline\n",
    "plt.figure()\n",
    "plt.title(\"Toxicity Classification Distribution\",fontsize=20)\n",
    "index = np.arange(len(identity_toxicity[0]))\n",
    "plt.bar(index,identity_toxicity[1]/np.sum(identity_toxicity[1]))\n",
    "plt.xticks(index, identity_toxicity[0], fontsize=15, rotation=45)\n",
    "plt.show()"
   ]
  },
  {
   "cell_type": "markdown",
   "metadata": {},
   "source": [
    "## Plot training curves"
   ]
  },
  {
   "cell_type": "code",
   "execution_count": null,
   "metadata": {
    "collapsed": true
   },
   "outputs": [],
   "source": [
    "plt.figure()\n",
    "plt.plot(zip(*RNSB)[0],label=\"National Identity\")\n",
    "plt.plot(zip(*RNSB)[1],label=\"Religion\")\n",
    "plt.plot(zip(*RNSB)[2],label=\"Gender\")\n",
    "\n",
    "#maybe also do analysi with no regulaization\n",
    "\n",
    "\n",
    "plt.title(\"Sentence Toxicity Classifcation, No Fair Regularization\")\n",
    "plt.xlabel(\"training steps\")\n",
    "plt.legend()"
   ]
  },
  {
   "cell_type": "code",
   "execution_count": null,
   "metadata": {
    "collapsed": true
   },
   "outputs": [],
   "source": [
    "np.argmax(zip(*RNSB_debias)[0])"
   ]
  },
  {
   "cell_type": "code",
   "execution_count": null,
   "metadata": {
    "collapsed": true
   },
   "outputs": [],
   "source": [
    "plt.figure()\n",
    "plt.plot(zip(*RNSB_debias)[0][np.argmax(zip(*RNSB_debias)[0]):],label=\"National Identity\")\n",
    "plt.plot(zip(*RNSB_debias)[1][np.argmax(zip(*RNSB_debias)[1]):],label=\"Religion\")\n",
    "plt.plot(zip(*RNSB_debias)[2][np.argmax(zip(*RNSB_debias)[2]):],label=\"Gender\")\n",
    "\n",
    "\n",
    "plt.title(\"Sentence Toxicity Classifcation\")\n",
    "plt.xlabel(\"training steps\")\n",
    "plt.legend()"
   ]
  },
  {
   "cell_type": "markdown",
   "metadata": {},
   "source": [
    "## test toxicity on gender equalized vs non equalized"
   ]
  },
  {
   "cell_type": "code",
   "execution_count": null,
   "metadata": {
    "collapsed": true
   },
   "outputs": [],
   "source": [
    "text_to_toxicity(lr,embeddings,'fuck'),text_to_toxicity(lr_debias,embeddings,'fuck')"
   ]
  },
  {
   "cell_type": "code",
   "execution_count": null,
   "metadata": {
    "collapsed": true
   },
   "outputs": [],
   "source": [
    "text_to_toxicity(lr,embeddings,'US'),text_to_toxicity(lr,embeddings,'mexico')"
   ]
  },
  {
   "cell_type": "code",
   "execution_count": null,
   "metadata": {
    "collapsed": true
   },
   "outputs": [],
   "source": [
    "text_to_toxicity(lr_debias,embeddings,'US'),text_to_toxicity(lr_debias,embeddings,'mexico')"
   ]
  },
  {
   "cell_type": "code",
   "execution_count": null,
   "metadata": {
    "collapsed": true
   },
   "outputs": [],
   "source": [
    "text_to_toxicity(lr,embeddings,'i am american'),text_to_toxicity(lr,embeddings,'i am mexican')"
   ]
  },
  {
   "cell_type": "code",
   "execution_count": null,
   "metadata": {
    "collapsed": true
   },
   "outputs": [],
   "source": [
    "text_to_toxicity(lr_debias,embeddings,'i am american'),text_to_toxicity(lr_debias,embeddings,\"i am mexican\")"
   ]
  },
  {
   "cell_type": "code",
   "execution_count": null,
   "metadata": {
    "collapsed": true
   },
   "outputs": [],
   "source": [
    "text_to_toxicity(lr,embeddings,'catholic'),text_to_toxicity(lr,embeddings,'jewish')"
   ]
  },
  {
   "cell_type": "code",
   "execution_count": null,
   "metadata": {
    "collapsed": true
   },
   "outputs": [],
   "source": [
    "text_to_toxicity(lr_debias,embeddings,'catholic'),text_to_toxicity(lr_debias,embeddings,'jewish')"
   ]
  },
  {
   "cell_type": "code",
   "execution_count": null,
   "metadata": {
    "collapsed": true
   },
   "outputs": [],
   "source": [
    "text_to_toxicity(lr,embeddings,'male'),text_to_toxicity(lr,embeddings,'female')"
   ]
  },
  {
   "cell_type": "code",
   "execution_count": null,
   "metadata": {
    "collapsed": true
   },
   "outputs": [],
   "source": [
    "text_to_toxicity(lr_debias,embeddings,'male'),text_to_toxicity(lr_debias,embeddings,'female')"
   ]
  },
  {
   "cell_type": "code",
   "execution_count": null,
   "metadata": {
    "collapsed": true
   },
   "outputs": [],
   "source": [
    "text_to_toxicity(lr,embeddings,'boy'),text_to_toxicity(lr,embeddings,'girl')"
   ]
  },
  {
   "cell_type": "code",
   "execution_count": null,
   "metadata": {
    "collapsed": true
   },
   "outputs": [],
   "source": [
    "text_to_toxicity(lr_debias,embeddings,'boy'),text_to_toxicity(lr_debias,embeddings,'girl')"
   ]
  },
  {
   "cell_type": "code",
   "execution_count": null,
   "metadata": {
    "collapsed": true
   },
   "outputs": [],
   "source": [
    "text_to_toxicity(lr_debias,embeddings,'dude'),text_to_toxicity(lr_debias,embeddings,'gal')"
   ]
  },
  {
   "cell_type": "markdown",
   "metadata": {},
   "source": [
    "## create identity keyword toxicity histograms"
   ]
  },
  {
   "cell_type": "code",
   "execution_count": null,
   "metadata": {
    "collapsed": true
   },
   "outputs": [],
   "source": [
    "identity_toxicity_debias = dict(identity_toxicity_table(identities, embeddings_debiased,model_debias,add='/c/en/'))\n",
    "identity_toxicity = dict(identity_toxicity_table(identities,embeddings,model))\n",
    "keys_common = set(map(lambda x : x[6:] , identity_toxicity_debias.keys())).intersection(set(identity_toxicity.keys()))\n",
    "identity_toxicity_debias = {key: identity_toxicity_debias['/c/en/'+key] for key in keys_common }\n",
    "identity_toxicity = {key: identity_toxicity[key] for key in keys_common }\n",
    "identity_toxicity_debias = zip(*identity_toxicity_debias.items())\n",
    "identity_toxicity = zip(*identity_toxicity.items())\n",
    "%matplotlib inline\n",
    "f = plt.figure(figsize=(27, 18), dpi= 80, facecolor='w', edgecolor='k')\n",
    "f.subplots_adjust(hspace=.8)\n",
    "f.add_subplot(411)\n",
    "plt.title(\"Toxicity Classification Distribution\",fontsize=20)\n",
    "index = np.arange(len(identity_toxicity[0]))\n",
    "plt.bar(index,identity_toxicity[1]/np.sum(identity_toxicity[1]))\n",
    "plt.xticks(index, identity_toxicity[0], fontsize=15, rotation=45)\n",
    "plt.ylim(top=.06,bottom=0)\n",
    "f.add_subplot(412)\n",
    "plt.title(\"Concept Net Debiased Toxicity Classification Distribution\",fontsize=20)\n",
    "index = np.arange(len(identity_toxicity_debias[0]))\n",
    "plt.bar(index,identity_toxicity_debias[1]/np.sum(identity_toxicity_debias[1]))\n",
    "plt.xticks(index, identity_toxicity_debias[0], fontsize=15, rotation=45)\n",
    "plt.ylim(top=.06,bottom=0)\n",
    "f.add_subplot(413)\n",
    "plt.title(\"Delta\",fontsize=20)\n",
    "index = np.arange(len(identity_toxicity_debias[0]))\n",
    "delta = identity_toxicity[1]/np.sum(identity_toxicity[1])-identity_toxicity_debias[1]/np.sum(identity_toxicity_debias[1])\n",
    "bar = plt.bar(index,delta)\n",
    "for i,j in enumerate(delta):\n",
    "    bar[i].set_color('r') if j<0 else bar[i].set_color('g')\n",
    "plt.xticks(index, identity_toxicity_debias[0], fontsize=15, rotation=45)\n",
    "plt.ylim(top=.06,bottom=-.06)\n",
    "f.add_subplot(414)\n",
    "plt.title('\"Fair\" Taget Distribution',fontsize=20)\n",
    "index = np.arange(len(identity_toxicity[0]))\n",
    "plt.bar(index,1./len(identity_toxicity[1]))\n",
    "plt.xticks(index, identity_toxicity[0], fontsize=15, rotation=45)\n",
    "plt.ylim(top=.06,bottom=0)\n",
    "plt.show()\n",
    "uniform_dist = np.ones(len(identity_toxicity[1]))*1./len(identity_toxicity[1])\n",
    "uniform_dist_d = np.ones(len(identity_toxicity_debias[1]))*1./len(identity_toxicity_debias[1])\n",
    "\n",
    "debiased_normalized = identity_toxicity_debias[1]/np.sum(identity_toxicity_debias[1])\n",
    "biased_normalized = identity_toxicity[1]/np.sum(identity_toxicity[1])\n",
    "kl_debiased = (debiased_normalized * np.log(debiased_normalized/uniform_dist_d)).sum()\n",
    "kl_biased = (biased_normalized * np.log(biased_normalized/uniform_dist)).sum()\n",
    "print 'kl divergence from uniform dist for concept net:',kl_debiased\n",
    "print 'kl divergence from uniform dist for google news:',kl_biased"
   ]
  },
  {
   "cell_type": "markdown",
   "metadata": {},
   "source": [
    "## model comparison with different methods"
   ]
  },
  {
   "cell_type": "code",
   "execution_count": null,
   "metadata": {
    "collapsed": true,
    "scrolled": false
   },
   "outputs": [],
   "source": [
    "identity_toxicity_debias = dict(identity_toxicity_table(nationalities, embeddings,model_debias_kernel))\n",
    "identity_toxicity = dict(identity_toxicity_table(nationalities,embeddings,model))\n",
    "# keys_common = set(map(lambda x : x[6:] , identity_toxicity_debias.keys())).intersection(set(identity_toxicity.keys()))\n",
    "# identity_toxicity_debias = {key: identity_toxicity_debias[key] for key in keys_common }\n",
    "# identity_toxicity = {key: identity_toxicity[key] for key in keys_common }\n",
    "identity_toxicity_debias = zip(*identity_toxicity_debias.items())\n",
    "identity_toxicity = zip(*identity_toxicity.items())\n",
    "%matplotlib inline\n",
    "f = plt.figure(figsize=(27, 18), dpi= 80, facecolor='w', edgecolor='k')\n",
    "f.subplots_adjust(hspace=1.2)\n",
    "f.add_subplot(411)\n",
    "plt.title(\"GloVe Negative Sentiment Distribution\",fontsize=35)\n",
    "index = np.arange(len(identity_toxicity[0]))\n",
    "plt.bar(index,identity_toxicity[1]/np.sum(identity_toxicity[1]))\n",
    "plt.xticks(index, identity_toxicity[0], fontsize=25, rotation=35)\n",
    "plt.ylim(top=.2,bottom=0)\n",
    "f.add_subplot(412)\n",
    "plt.title(\"GloVe Kernel Negative Sentiment Distribution\",fontsize=35)\n",
    "index = np.arange(len(identity_toxicity_debias[0]))\n",
    "plt.bar(index,identity_toxicity_debias[1]/np.sum(identity_toxicity_debias[1]))\n",
    "plt.xticks(index, identity_toxicity_debias[0], fontsize=25, rotation=35)\n",
    "plt.ylim(top=.2,bottom=0)\n",
    "f.add_subplot(413)\n",
    "plt.title(\"Delta Between Word Embedding Distributions\",fontsize=35)\n",
    "index = np.arange(len(identity_toxicity_debias[0]))\n",
    "delta = identity_toxicity[1]/np.sum(identity_toxicity[1])-identity_toxicity_debias[1]/np.sum(identity_toxicity_debias[1])\n",
    "bar = plt.bar(index,delta)\n",
    "for i,j in enumerate(delta):\n",
    "    bar[i].set_color('r') if j<0 else bar[i].set_color('g')\n",
    "plt.xticks(index, identity_toxicity_debias[0], fontsize=25, rotation=35)\n",
    "plt.ylim(top=.2,bottom=-.06)\n",
    "f.add_subplot(414)\n",
    "plt.title('Fair Uniform Taget Distribution',fontsize=35)\n",
    "index = np.arange(len(identity_toxicity[0]))\n",
    "plt.bar(index,1./len(identity_toxicity[1]))\n",
    "plt.xticks(index, identity_toxicity[0], fontsize=25, rotation=35)\n",
    "plt.ylim(top=.2,bottom=0)\n",
    "plt.show()\n",
    "uniform_dist = np.ones(len(identity_toxicity[1]))*1./len(identity_toxicity[1])\n",
    "uniform_dist_d = np.ones(len(identity_toxicity_debias[1]))*1./len(identity_toxicity_debias[1])\n",
    "\n",
    "debiased_normalized = identity_toxicity_debias[1]/np.sum(identity_toxicity_debias[1])\n",
    "biased_normalized = identity_toxicity[1]/np.sum(identity_toxicity[1])\n",
    "kl_debiased = (debiased_normalized * np.log(debiased_normalized/uniform_dist_d)).sum()\n",
    "kl_biased = (biased_normalized * np.log(biased_normalized/uniform_dist)).sum()\n",
    "print 'kl divergence from uniform dist for concept net:',kl_debiased\n",
    "print 'kl divergence from uniform dist for google news:',kl_biased"
   ]
  },
  {
   "cell_type": "code",
   "execution_count": null,
   "metadata": {
    "collapsed": true
   },
   "outputs": [],
   "source": [
    "from pandas import DataFrame\n",
    "import seaborn as sns\n",
    "sns.set(font_scale=1.3)\n",
    "%matplotlib inline\n",
    "A = np.outer(identity_toxicity[1],identity_toxicity[1])\n",
    "\n",
    "df = DataFrame(A, index=identity_toxicity[0], columns=identity_toxicity[0])\n",
    "\n",
    "sns.heatmap(df, annot=False)"
   ]
  },
  {
   "cell_type": "code",
   "execution_count": null,
   "metadata": {
    "collapsed": true
   },
   "outputs": [],
   "source": [
    "A = np.outer(identity_toxicity_debias[1],identity_toxicity_debias[1])\n",
    "\n",
    "df = DataFrame(A, index=identity_toxicity_debias[0], columns=identity_toxicity_debias[0])\n",
    "\n",
    "sns.heatmap(df, annot=False)"
   ]
  }
 ],
 "metadata": {
  "kernelspec": {
   "display_name": "Python 3",
   "language": "python",
   "name": "python3"
  },
  "language_info": {
   "codemirror_mode": {
    "name": "ipython",
    "version": 3
   },
   "file_extension": ".py",
   "mimetype": "text/x-python",
   "name": "python",
   "nbconvert_exporter": "python",
   "pygments_lexer": "ipython3",
   "version": "3.6.1"
  }
 },
 "nbformat": 4,
 "nbformat_minor": 2
}
