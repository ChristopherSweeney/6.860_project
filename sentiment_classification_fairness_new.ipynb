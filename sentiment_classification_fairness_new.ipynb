{
 "cells": [
  {
   "cell_type": "code",
   "execution_count": 1,
   "metadata": {
    "collapsed": true
   },
   "outputs": [],
   "source": [
    "import numpy as np\n",
    "import gensim\n",
    "import pandas as pd\n",
    "from matplotlib import pyplot as plt\n",
    "import seaborn\n",
    "import re\n",
    "import statsmodels.formula.api\n",
    "from sklearn.linear_model import SGDClassifier\n",
    "from sklearn.model_selection import train_test_split\n",
    "from sklearn.metrics import accuracy_score\n",
    "from collections import Counter\n",
    "from sklearn.linear_model import LogisticRegression\n",
    "import re\n",
    "from sklearn.decomposition import PCA\n",
    "from sklearn.manifold import TSNE\n",
    "%matplotlib nbagg"
   ]
  },
  {
   "cell_type": "markdown",
   "metadata": {},
   "source": [
    "## Protected Groups\n",
    "\n",
    "Race,\n",
    "Color,\n",
    "Religion or creed,\n",
    "National origin or ancestry,\n",
    "Sex,\n",
    "Age,\n",
    "Physical or mental disability,\n",
    "Veteran status,\n",
    "Genetic information,\n",
    "Citizenship"
   ]
  },
  {
   "cell_type": "code",
   "execution_count": 2,
   "metadata": {
    "collapsed": true
   },
   "outputs": [],
   "source": [
    "identities = ['lesbian', 'gay', 'bisexual', 'transgender', 'trans', 'queer', \n",
    "              'lgbt', 'lgbtq', 'homosexual', 'straight', 'heterosexual', 'male', \n",
    "              'female', 'nonbinary', 'african', 'african american', 'black', 'white', \n",
    "              'european', 'hispanic', 'latino', 'latina', 'latinx', 'mexican', 'canadian', \n",
    "              'american', 'asian', 'indian', 'middle eastern', 'chinese', 'japanese', \n",
    "              'christian', 'muslim', 'jewish', 'buddhist', 'catholic', 'protestant', 'sikh', \n",
    "              'taoist', 'old', 'older', 'young', 'younger', 'teenage', 'millenial', 'middle aged', \n",
    "              'elderly', 'blind', 'deaf', 'paralyzed']"
   ]
  },
  {
   "cell_type": "code",
   "execution_count": 3,
   "metadata": {
    "collapsed": true
   },
   "outputs": [],
   "source": [
    "nationalities=[\n",
    "'German',\n",
    "#'African_American',\n",
    "'Mexican',\n",
    "'Irish',\n",
    "'English',\n",
    "'American',\n",
    "'Italian',\n",
    "'Polish',\n",
    "'French',\n",
    "'Scottish',\n",
    "#'Puerto_Rican',\n",
    "'Norwegian',\n",
    "'Dutch',\n",
    "'Swedish',\n",
    "'Chinese',\n",
    "'Indian',\n",
    "'Russian',\n",
    "'Filipino'\n",
    "]"
   ]
  },
  {
   "cell_type": "code",
   "execution_count": 4,
   "metadata": {
    "collapsed": true
   },
   "outputs": [],
   "source": [
    "religions =[ \n",
    "    'Zionist',\n",
    "    'Catholic',\n",
    "    'Christian',\n",
    "    'Islamic',\n",
    "    'Protestant',\n",
    "    'Taoist',\n",
    "    'Atheist',\n",
    "    'Hindu',\n",
    "    'Buddhist',\n",
    "    'Diasporic',\n",
    "    'Sikh',\n",
    "    'Juche',\n",
    "    'Jewish',\n",
    "    'Bahai',\n",
    "    'Jains',\n",
    "    'Shinto',\n",
    "    'Pagan'\n",
    "]"
   ]
  },
  {
   "cell_type": "code",
   "execution_count": 5,
   "metadata": {
    "collapsed": true
   },
   "outputs": [],
   "source": [
    "gender= [\"male\",\"female\",\"her\",\"him\",\"man\",\"woman\",\"boy\",\"girl\",\"his\",\"hers\",\"mom\",\"dad\"]#perhaps try all terms intraprotected group"
   ]
  },
  {
   "cell_type": "markdown",
   "metadata": {},
   "source": [
    "## Utility methods"
   ]
  },
  {
   "cell_type": "code",
   "execution_count": 6,
   "metadata": {
    "collapsed": true
   },
   "outputs": [],
   "source": [
    "def text_to_vector(embeddings,text):\n",
    "    tokens = text.split()\n",
    "    words = filter(lambda x: x in embeddings,[x.lower() for x in words])\n",
    "    if len(words)>0:\n",
    "        return np.mean(embeddings[words],axis = 0)\n",
    "    return None"
   ]
  },
  {
   "cell_type": "code",
   "execution_count": 7,
   "metadata": {
    "collapsed": true
   },
   "outputs": [],
   "source": [
    "def words_to_toxicity(model,embeddings,words):\n",
    "    words = list(filter(lambda x: x in embeddings,[x.lower() for x in words]))\n",
    "    if len(words)>0:\n",
    "        vector = np.mean(embeddings[words],axis = 0)\n",
    "        prob = model.predict_prob(vector)\n",
    "        return prob\n",
    "    else: return 0;"
   ]
  },
  {
   "cell_type": "code",
   "execution_count": 8,
   "metadata": {
    "collapsed": true
   },
   "outputs": [],
   "source": [
    "def text_to_toxicity(model,embeddings,text):\n",
    "    tokens = text.split()\n",
    "    toxicity = words_to_toxicity(model,embeddings,tokens)\n",
    "    return toxicity"
   ]
  },
  {
   "cell_type": "code",
   "execution_count": 9,
   "metadata": {
    "collapsed": true
   },
   "outputs": [],
   "source": [
    "def identity_toxicity_table(identities,embeddings,model,add=None):\n",
    "    words = []\n",
    "    toxicities = []\n",
    "    for word in sorted(identities):\n",
    "        word = add + word if add else word\n",
    "        word = word.lower()\n",
    "        toxicities.append(text_to_toxicity(model, embeddings,word.lower()))\n",
    "        words.append(word)\n",
    "    return zip(words,toxicities)"
   ]
  },
  {
   "cell_type": "code",
   "execution_count": 10,
   "metadata": {
    "collapsed": true
   },
   "outputs": [],
   "source": [
    "def load_lexicon(filename):\n",
    "    lexicon = []\n",
    "    with open(filename) as infile:\n",
    "        for line in infile:\n",
    "            line = line.rstrip()\n",
    "            if line and not line.startswith(';'):\n",
    "                lexicon.append(line)\n",
    "    return lexicon"
   ]
  },
  {
   "cell_type": "code",
   "execution_count": 11,
   "metadata": {
    "collapsed": true
   },
   "outputs": [],
   "source": [
    "def generate_train_test_set(model,targets,sentences,dim=300):\n",
    "    vectors = np.zeros((len(sentences),dim))\n",
    "    labels = np.zeros((len(sentences)))\n",
    "    count=0\n",
    "    for i,sentence in enumerate(sentences):\n",
    "        words = filter(lambda x: x in model,[x.lower() for x in sentence.split()])\n",
    "        if len(words)>0:\n",
    "            vectors[count,:] = np.mean(model[words],axis = 0)\n",
    "            labels[count] = targets[i] \n",
    "            count+=1\n",
    "    print(count, \" sentences in embeddings, \", len(sentences) - count, \" sentences not in embeddings\")\n",
    "    return train_test_split(vectors, labels, test_size=0.1, random_state=0)"
   ]
  },
  {
   "cell_type": "code",
   "execution_count": 12,
   "metadata": {
    "collapsed": true
   },
   "outputs": [],
   "source": [
    "class LogisticRegression:\n",
    "    def __init__(self, lr=0.01, num_iter=5000,val=None,X_tils =[],lamb=.1,reg_coeff=[]):\n",
    "        self.lr = lr\n",
    "        self.num_iter = num_iter\n",
    "        self.val = val\n",
    "        self.X_tils = X_tils\n",
    "        self.lamb = lamb\n",
    "        self.reg_coeff = reg_coeff\n",
    "   \n",
    "    def __sigmoid(self, z):\n",
    "        return 1 / (1 + np.exp(-z))\n",
    "\n",
    "    def __loss(self, h, y):\n",
    "        return (-y * np.log(h) - (1 - y) * np.log(1 - h)).mean()\n",
    "    \n",
    "    def calculate_fairness_reg_grad(self,theta):\n",
    "        fair_reg_sum = 0\n",
    "        for i,X_til in enumerate(self.X_tils):\n",
    "            l = np.shape(X_til)[0]\n",
    "            z_til = np.dot(X_til, theta)\n",
    "            h_til = self.__sigmoid(z_til)\n",
    "            T = np.sum(h_til)\n",
    "            fair_reg_sum+=self.reg_coeff[i]*(np.sum(X_til.T*h_til*(1-h_til)*(np.log(l*h_til)+1),axis=1))\n",
    "        return fair_reg_sum\n",
    "    \n",
    "    def fit(self, X, y):\n",
    "        # weights initialization\n",
    "        self.theta = np.zeros(X.shape[1])\n",
    "        RNSB = []\n",
    "        loss = []\n",
    "        validation_scores = []\n",
    "        for i in range(self.num_iter):\n",
    "            z = np.dot(X, self.theta)\n",
    "            h = self.__sigmoid(z)\n",
    "            r = self.calculate_fairness_reg_grad(self.theta)\n",
    "            grad_loss = np.dot(X.T, (h - y)) / y.size\n",
    "            #logistic loss + L2 regularization + sum(fair_reg)\n",
    "            if(i % 1000 == 0):\n",
    "                print(np.sum(np.abs(grad_loss)), np.sum(np.abs(2*self.lamb*self.theta)), np.sum(np.abs(r)))\n",
    "            gradient = grad_loss + 2*self.lamb*self.theta+ r\n",
    "            self.theta -= self.lr * gradient\n",
    "            RNSB.append(self.validation_fairness())\n",
    "            loss.append(self.__loss(h, y))\n",
    "            validation_scores.append(self.validation(self.val[0],self.val[1]))\n",
    "            if(i % 1000 == 0):\n",
    "                z = np.dot(X, self.theta)\n",
    "                h = self.__sigmoid(z)\n",
    "                print('loss: ' ,self.__loss(h, y))\n",
    "                if self.val:\n",
    "                    print('validation MAp: ', self.validation(self.val[0],self.val[1]))\n",
    "                if len(self.X_tils)>0:\n",
    "                    print('RNSB: ', self.validation_fairness())\n",
    "        return (RNSB,loss,validation_scores)    \n",
    "    \n",
    "    def predict_prob(self, X):\n",
    "        return self.__sigmoid(np.dot(X, self.theta))\n",
    "    \n",
    "    def predict_proba(self, X):\n",
    "        return [1-self.__sigmoid(np.dot(X, self.theta)),self.__sigmoid(np.dot(X, self.theta))]\n",
    "    \n",
    "    def predict(self, X, threshold):\n",
    "        return self.predict_prob(X) >= threshold\n",
    "    \n",
    "    def validation(self,X,Y):\n",
    "        return np.mean(self.predict(X,.5)==Y)\n",
    "    \n",
    "    def validation_fairness(self):\n",
    "        vals = []\n",
    "        for Xtil in self.X_tils:\n",
    "            probs = self.predict_prob(Xtil)\n",
    "            probs = probs/np.sum(probs)\n",
    "            uniform = np.ones(len(probs))*1./len(probs)\n",
    "            vals.append((probs * np.log(probs/uniform)).sum())\n",
    "        return vals\n",
    "    def print_val_fairness(self):\n",
    "        vals = []\n",
    "        for Xtil in self.X_tils:\n",
    "            probs = self.predict_prob(Xtil)\n",
    "            probs = probs/np.sum(probs)\n",
    "            print(probs)\n",
    "            uniform = np.ones(len(probs))*1./len(probs)\n",
    "            vals.append((probs * np.log(probs/uniform)).sum())\n",
    "        print(vals)"
   ]
  },
  {
   "cell_type": "markdown",
   "metadata": {},
   "source": [
    "## Load Datasets"
   ]
  },
  {
   "cell_type": "code",
   "execution_count": null,
   "metadata": {},
   "outputs": [],
   "source": [
    "!pip3 install glove"
   ]
  },
  {
   "cell_type": "code",
   "execution_count": 13,
   "metadata": {},
   "outputs": [],
   "source": [
    "#GLOVE\n",
    "from gensim.scripts.glove2word2vec import glove2word2vec\n",
    "glove_input_file = 'data/glove.6B/glove.6B.300d.txt'\n",
    "word2vec_output_file = 'data/glove.6B/glove.6B.300d.txt.word2vec'\n",
    "glove2word2vec(glove_input_file, word2vec_output_file)\n",
    "embeddings = gensim.models.KeyedVectors.load_word2vec_format(word2vec_output_file,binary=False)\n",
    "\n",
    "#Word2vec\n",
    "# embeddings = gensim.models.KeyedVectors.load_word2vec_format('data/embeddings/GoogleNews-vectors-negative300.bin.gz', binary=True)\n",
    "\n",
    "#universal sentence encoder\n",
    "# import tensorflow as tf\n",
    "# import tensorflow_hub as hub\n",
    "# module_url = \"https://tfhub.dev/google/universal-sentence-encoder-large/3\"\n",
    "# # Import the Universal Sentence Encoder's TF Hub module\n",
    "# embed = hub.Module(module_url)"
   ]
  },
  {
   "cell_type": "code",
   "execution_count": 14,
   "metadata": {
    "collapsed": true
   },
   "outputs": [],
   "source": [
    "#kaggle\n",
    "\n",
    "#df = pd.read_csv(\"data/kaggle_toxicity/train.csv\")\n",
    "\n",
    "#word sentiment\n",
    "\n",
    "pos_words = load_lexicon(\"data/opinion_lexicon/positive-words.txt\")\n",
    "neg_words = load_lexicon(\"data/opinion_lexicon/negative-words.txt\")\n",
    "\n",
    "#imbd\n",
    "\n",
    "# import numpy\n",
    "# from keras.datasets import imdb\n",
    "# from matplotlib import pyplot\n",
    "# # load the dataset\n",
    "# (X_train, y_train), (X_test, y_test) = imdb.load_data()\n",
    "# X = numpy.concatenate((X_train, X_test), axis=0)\n",
    "# y = numpy.concatenate((y_train, y_test), axis=0)"
   ]
  },
  {
   "cell_type": "markdown",
   "metadata": {},
   "source": [
    "## Initialize word sentiment dataset or toxicity dataset (wiki)"
   ]
  },
  {
   "cell_type": "code",
   "execution_count": null,
   "metadata": {
    "collapsed": true
   },
   "outputs": [],
   "source": [
    "np.shape(train_vectors)"
   ]
  },
  {
   "cell_type": "code",
   "execution_count": 15,
   "metadata": {
    "collapsed": true
   },
   "outputs": [],
   "source": [
    "#sentiment word dataset from positve/negative reviews\n",
    "#'''\n",
    "pos_words_fil = filter(lambda x:  x in embeddings,map(lambda x: x,pos_words))\n",
    "neg_words_fil = filter(lambda x:  x in embeddings,map(lambda x: x,neg_words))\n",
    "pos_vectors = embeddings[pos_words_fil]\n",
    "neg_vectors = embeddings[neg_words_fil]\n",
    "vectors = np.concatenate([pos_vectors, neg_vectors])\n",
    "targets = np.array([0 for entry in pos_vectors] + [1 for entry in neg_vectors])\n",
    "labels = list(pos_vectors) + list(neg_vectors)\n",
    "train_vectors, test_vectors, train_targets, test_targets, train_labels, test_labels = train_test_split(vectors, targets, labels, test_size=0.1, random_state=0)\n",
    "#'''\n",
    "#toxicity tweet dataset\n",
    "#''''''\n",
    "# toxic_sentences = df[df[\"toxic\"]==1][\"comment_text\"]\n",
    "# num_toxic_samples = len(toxic_sentences)\n",
    "# non_toxic_sentences = df[df[\"toxic\"]==0][\"comment_text\"].sample(num_toxic_samples)\n",
    "# sentences = pd.concat([toxic_sentences, non_toxic_sentences])\n",
    "# targets  = np.zeros(num_toxic_samples*2)\n",
    "# targets[0:num_toxic_samples] = 1\n",
    "# train_vectors, test_vectors, train_targets, test_targets = generate_train_test_set(embeddings,targets,sentences)\n",
    "# sentences = map(lambda x: re.sub('[^A-Za-z0-9 ]+', '', x.lower()),list(sentences))\n",
    "# # message_embeddings = None\n",
    "# # with tf.Session() as session:\n",
    "# #     session.run([tf.global_variables_initializer(), tf.tables_initializer()])\n",
    "# #     message_embeddings = session.run(embed(sentences))\n",
    "# #     print np.shape(message_embeddings)\n",
    "# from sklearn.feature_extraction.text import TfidfVectorizer\n",
    "# vec = TfidfVectorizer(ngram_range=(1,2),\n",
    "#                min_df=3, max_df=0.9, strip_accents='unicode', use_idf=1,\n",
    "#                smooth_idf=1, sublinear_tf=1)\n",
    "# trn_term_doc = vec.fit_transform(sentences)\n",
    "\n",
    "# train_vectors, test_vectors, train_targets, test_targets = train_test_split(trn_term_doc.todense(), targets,test_size=0.1, random_state=0)\n",
    "\n",
    "#'''\n",
    "\n",
    "\n",
    "    \n",
    "# import re, string\n",
    "# re_tok = re.compile(f'([{string.punctuation}“”¨«»®´·º½¾¿¡§£₤‘’])')\n",
    "# def tokenize(s): return re_tok.sub(r' \\1 ', s).split()\n",
    "# n = train.shape[0]\n",
    "# vec = TfidfVectorizer(ngram_range=(1,2), tokenizer=tokenize,\n",
    "#                min_df=3, max_df=0.9, strip_accents='unicode', use_idf=1,\n",
    "#                smooth_idf=1, sublinear_tf=1 )\n",
    "# trn_term_doc = vec.fit_transform(train[COMMENT])\n",
    "# test_term_doc = vec.transform(test[COMMENT])\n",
    "#imbd movie ratings?????"
   ]
  },
  {
   "cell_type": "markdown",
   "metadata": {},
   "source": [
    "## PCA"
   ]
  },
  {
   "cell_type": "code",
   "execution_count": 16,
   "metadata": {
    "collapsed": true
   },
   "outputs": [],
   "source": [
    "def remove_component(matrix, row_index):\n",
    "    return np.delete(matrix,row_index,1)\n",
    "\n",
    "# Deprecated. Or at least not used right now.\n",
    "def remove_principle_component(X_matrix, component_index):\n",
    "    u, s, vt = np.linalg.svd(X_matrix, full_matrices=False)\n",
    "    u_new = np.delete(u, component_index, 1)    \n",
    "    s_new = np.delete(s, component_index) \n",
    "    vt_new = np.delete(vt, component_index, 0)\n",
    "    return np.mat(u_new)* np.diag(s_new) * np.mat(vt_new)\n",
    "\n",
    "# Deprecated. Or at least not used right now.\n",
    "def leave_one_out(X_matrix):\n",
    "    print(\"leaving one out...\")\n",
    "    list_of_Xs = []\n",
    "    for i in range(X_matrix.shape[1]):\n",
    "        X_without_i = remove_principle_component(X_matrix, i)\n",
    "        list_of_Xs.append(np.array(X_without_i))\n",
    "    return list_of_Xs\n",
    "\n",
    "def leave_one_out_efficiently(X_matrix, num_top_components_to_remove=float('inf')):\n",
    "    list_of_Xs = []\n",
    "    u, s, vt = np.linalg.svd(X_matrix, full_matrices=False)\n",
    "    \n",
    "    for i in range(min(X_matrix.shape[1], num_top_components_to_remove)):\n",
    "        u_new = np.delete(u, i, 1)    \n",
    "        s_new = np.delete(s, i) \n",
    "        vt_new = np.delete(vt, i, 0)\n",
    "        X_without_i = np.mat(u_new)* np.diag(s_new) * np.mat(vt_new)\n",
    "        list_of_Xs.append(np.array(X_without_i))\n",
    "    return list_of_Xs"
   ]
  },
  {
   "cell_type": "code",
   "execution_count": 17,
   "metadata": {
    "collapsed": true
   },
   "outputs": [],
   "source": [
    "def run_lr_on_this_data(new_train_vectors):    \n",
    "    lr = LogisticRegression(val=(test_vectors,test_targets),X_tils = regularizers,reg_coeff=[0,0,0],lamb=0.01,num_iter=8000)\n",
    "    (RNSB,loss,validation_scores) = lr.fit(new_train_vectors,train_targets)\n",
    "    return lr\n",
    "    print(\"----------------------------------------------\")"
   ]
  },
  {
   "cell_type": "code",
   "execution_count": null,
   "metadata": {
    "collapsed": true
   },
   "outputs": [],
   "source": [
    "def run_loo_experiment(num_singular_vectors):\n",
    "    leave_one_out_matricies = leave_one_out_efficiently(train_vectors, num_singular_vectors)\n",
    "\n",
    "#     Un-pca'd LR\n",
    "    og_lr = LogisticRegression(val=(test_vectors,test_targets),X_tils = regularizers,reg_coeff=[0,0,0],lamb=0.01,num_iter=4000)\n",
    "    (RNSB,loss,validation_scores) = og_lr.fit(train_vectors,train_targets)\n",
    "\n",
    "    lr_metrics = []\n",
    "    \n",
    "    for i in range(len(leave_one_out_matricies)):\n",
    "        lr_metrics.append(run_lr_on_this_data(leave_one_out_matricies[i]))\n",
    "        print(\"finished with \" + str(i) + \" runs of \" + str(len(leave_one_out_matricies)))\n",
    "        print(\"____________________\")\n",
    "        print()\n",
    "        \n",
    "    return lr_metrics#, og_lr \n"
   ]
  },
  {
   "cell_type": "code",
   "execution_count": 18,
   "metadata": {
    "collapsed": true
   },
   "outputs": [],
   "source": [
    "# Need here for regularizers, even if all are zero.\n",
    "N = np.zeros((len(nationalities),300))\n",
    "for i,j in enumerate(nationalities):\n",
    "    N[i,:] = embeddings[j.lower()]\n",
    "R = np.zeros((len(religions),300))\n",
    "for i,j in enumerate(religions):\n",
    "    R[i,:] = embeddings[j.lower()]\n",
    "G = np.zeros((len(gender),300))\n",
    "for i,j in enumerate(gender):\n",
    "    G[i,:] = embeddings[j.lower()]\n",
    "regularizers = [N,R,G]"
   ]
  },
  {
   "cell_type": "code",
   "execution_count": null,
   "metadata": {},
   "outputs": [],
   "source": [
    "# lr_metrics, og_lr = run_loo_experiment(20)\n",
    "    \n",
    "lr_metrics = run_loo_experiment(5)"
   ]
  },
  {
   "cell_type": "code",
   "execution_count": 19,
   "metadata": {},
   "outputs": [
    {
     "name": "stdout",
     "output_type": "stream",
     "text": [
      "6.67731607316 0.0 0.0\n",
      "loss:  0.690806938888\n",
      "validation MAp:  0.774038461538\n",
      "RNSB:  [1.2337028740690939e-07, 2.1538976197832401e-06, 3.7378536644028877e-07]\n",
      "1.48099565479 0.447926492306 0.0\n",
      "loss:  0.314153624448\n",
      "validation MAp:  0.900641025641\n",
      "RNSB:  [0.042099657028117535, 0.070295260016458527, 0.024795884737000493]\n",
      "1.0262187447 0.580921375259 0.0\n",
      "loss:  0.270939466524\n",
      "validation MAp:  0.911858974359\n",
      "RNSB:  [0.070477078261294041, 0.096361227460164553, 0.040996409070636078]\n",
      "0.869473784181 0.64328313835 0.0\n",
      "loss:  0.255417367627\n",
      "validation MAp:  0.908653846154\n",
      "RNSB:  [0.084833309095563539, 0.10962604330265141, 0.049544524539065243]\n"
     ]
    }
   ],
   "source": [
    "og_lr = LogisticRegression(val=(test_vectors,test_targets),X_tils = regularizers,reg_coeff=[0,0,0],lamb=0.01,num_iter=4000)\n",
    "(RNSB,loss,validation_scores) = og_lr.fit(train_vectors,train_targets)"
   ]
  },
  {
   "cell_type": "code",
   "execution_count": 20,
   "metadata": {},
   "outputs": [
    {
     "data": {
      "text/plain": [
       "0.91025641025641024"
      ]
     },
     "execution_count": 20,
     "metadata": {},
     "output_type": "execute_result"
    }
   ],
   "source": [
    "og_lr.validation(og_lr.val[0],og_lr.val[1])"
   ]
  },
  {
   "cell_type": "markdown",
   "metadata": {},
   "source": [
    "## Plotting PCA"
   ]
  },
  {
   "cell_type": "code",
   "execution_count": null,
   "metadata": {},
   "outputs": [],
   "source": [
    "def plot_RNSB_bar(lr_list, og_lr):\n",
    "    \n",
    "    rnsb_list = [i.validation_fairness() for i in lr_list]\n",
    "    metric_a, metric_b, metric_c  = zip(*rnsb_list)\n",
    "    \n",
    "#     identity_toxicity = dict(identity_toxicity_table(nationalities,embeddings,lr))\n",
    "#     identity_toxicity = list(zip(*identity_toxicity.items()))\n",
    "    \n",
    "    %matplotlib inline\n",
    "    plt.figure(figsize=(6,4))\n",
    "    plt.title(\"National Origin\",fontsize=20)\n",
    "    index = np.arange(len(metric_a)) + 1\n",
    "    plt.bar(index,metric_a)\n",
    "    plt.xticks(index, index, fontsize=15, rotation=45)\n",
    "    plt.axes().axhline(y=og_lr.validation_fairness()[0], color=\"gray\")\n",
    "    plt.ylabel(\"RNSB\",fontsize=16)\n",
    "    plt.xlabel(\"nth-largest singular vector removed\",fontsize=16)\n",
    "    plt.show()\n",
    "    \n",
    "    %matplotlib inline\n",
    "    plt.figure(figsize=(6,4))\n",
    "    plt.title(\"Religion\",fontsize=20)\n",
    "    index = np.arange(len(metric_b)) + 1\n",
    "    plt.bar(index,metric_b)\n",
    "    plt.xticks(index, index, fontsize=15, rotation=45)\n",
    "    plt.axes().axhline(y=og_lr.validation_fairness()[1], color=\"gray\")\n",
    "    plt.ylabel(\"RNSB\",fontsize=16)\n",
    "    plt.xlabel(\"nth-largest singular vector removed\",fontsize=16)\n",
    "    plt.show()\n",
    "    \n",
    "    \n",
    "    %matplotlib inline\n",
    "    plt.figure(figsize=(6,4))\n",
    "    plt.title(\"Gender\",fontsize=20)\n",
    "    index = np.arange(len(metric_c)) + 1\n",
    "    plt.bar(index,metric_c)\n",
    "    plt.xticks(index, index, fontsize=15, rotation=45)\n",
    "    plt.axes().axhline(y=og_lr.validation_fairness()[2], color=\"gray\")\n",
    "    plt.ylabel(\"RNSB\",fontsize=16)\n",
    "    plt.xlabel(\"nth-largest singular vector removed\",fontsize=16)\n",
    "    plt.show()\n",
    "\n",
    "    \n",
    "print(og_lr.validation_fairness())\n",
    "for lr in lr_metrics:\n",
    "    print(lr.validation(lr.val[0],lr.val[1]))\n",
    "plot_RNSB_bar(lr_metrics, og_lr)\n",
    "\n"
   ]
  },
  {
   "cell_type": "code",
   "execution_count": null,
   "metadata": {},
   "outputs": [],
   "source": [
    "def annotate_data(labels, points, plt):\n",
    "    \n",
    "    for label, point in zip(labels, points):\n",
    "        plt.annotate(label,xy=point,fontsize=15)\n",
    "    \n",
    "\n",
    "def plot_RNSB_scatter(lr_list, og_lr):\n",
    "    \n",
    "    rnsb_list = [lr.validation_fairness() for lr in lr_list]\n",
    "    validation_list = [lr.validation(lr.val[0],lr.val[1]) for lr in lr_list]\n",
    "    metric_a, metric_b, metric_c  = zip(*rnsb_list)\n",
    "    \n",
    "    og_rnsb_a, og_rnsb_b, og_rnsb_c = og_lr.validation_fairness()\n",
    "    og_validation = og_lr.validation(og_lr.val[0],og_lr.val[1])\n",
    "    \n",
    "    %matplotlib inline\n",
    "    plt.figure(figsize=(6,4))\n",
    "    plt.title(\"National Origin\",fontsize=20)\n",
    "    plt.xlabel(\"Validation Accuracy\")\n",
    "    plt.ylabel(\"RNSB\")\n",
    "    plt.scatter(validation_list, metric_a)\n",
    "    plt.scatter(og_validation, og_rnsb_a, color=\"red\")\n",
    "    plt.axes().axhline(y=og_rnsb_a, color=\"gray\")\n",
    "    plt.axes().axvline(x=og_validation, color=\"gray\")\n",
    "    annotate_data([str(i+1) for i in range(len(lr_list))], zip(validation_list, metric_a), plt)\n",
    "    plt.show()\n",
    "    \n",
    "    %matplotlib inline\n",
    "    plt.figure(figsize=(6,4))\n",
    "    plt.title(\"Religion\",fontsize=20)\n",
    "    plt.xlabel(\"Validation Accuracy\")\n",
    "    plt.ylabel(\"RNSB\")\n",
    "    plt.scatter(validation_list, metric_b)\n",
    "    plt.scatter(og_validation, og_rnsb_b, color=\"red\")\n",
    "    plt.axes().axhline(y=og_rnsb_b, color=\"gray\")\n",
    "    plt.axes().axvline(x=og_validation, color=\"gray\")\n",
    "    annotate_data([str(i+1) for i in range(len(lr_list))], zip(validation_list, metric_b), plt)\n",
    "    plt.show()\n",
    "    \n",
    "    %matplotlib inline\n",
    "    plt.figure(figsize=(6,4))\n",
    "    plt.title(\"Gender\",fontsize=20)\n",
    "    plt.xlabel(\"Validation Accuracy\")\n",
    "    plt.ylabel(\"RNSB\")\n",
    "    plt.scatter(validation_list, metric_c)\n",
    "    plt.scatter(og_validation, og_rnsb_c, color=\"red\")\n",
    "    plt.axes().axhline(y=og_rnsb_c, color=\"gray\")\n",
    "    plt.axes().axvline(x=og_validation, color=\"gray\")\n",
    "    annotate_data([str(i+1) for i in range(len(lr_list))], zip(validation_list, metric_c), plt)\n",
    "    plt.show()\n",
    "    \n",
    "    \n",
    "plot_RNSB_scatter(lr_metrics, og_lr)\n"
   ]
  },
  {
   "cell_type": "markdown",
   "metadata": {},
   "source": [
    "## Plot RNSB vs Accuracy for Reg and PCA"
   ]
  },
  {
   "cell_type": "code",
   "execution_count": null,
   "metadata": {},
   "outputs": [],
   "source": [
    "lr_debias"
   ]
  },
  {
   "cell_type": "code",
   "execution_count": 21,
   "metadata": {},
   "outputs": [
    {
     "name": "stdout",
     "output_type": "stream",
     "text": [
      "6.67731607316 0.0 0.0\n",
      "loss:  0.690806938888\n",
      "validation MAp:  0.774038461538\n",
      "RNSB:  [1.2337028740690939e-07, 2.1538976197832401e-06, 3.7378536644028877e-07]\n",
      "1.48099565479 0.447926492306 0.0\n",
      "loss:  0.314153624448\n",
      "validation MAp:  0.900641025641\n",
      "RNSB:  [0.042099657028117535, 0.070295260016458527, 0.024795884737000493]\n",
      "1.0262187447 0.580921375259 0.0\n",
      "loss:  0.270939466524\n",
      "validation MAp:  0.911858974359\n",
      "RNSB:  [0.070477078261294041, 0.096361227460164553, 0.040996409070636078]\n",
      "0.869473784181 0.64328313835 0.0\n",
      "loss:  0.255417367627\n",
      "validation MAp:  0.908653846154\n",
      "RNSB:  [0.084833309095563539, 0.10962604330265141, 0.049544524539065243]\n",
      "6.67731607316 0.0 260.230511771\n",
      "loss:  0.680765173817\n",
      "validation MAp:  0.559294871795\n",
      "RNSB:  [0.001136268238864693, 0.019059643529175774, 0.0069855950655610972]\n",
      "2.06924401028 0.635108924153 1.64959396997\n",
      "loss:  0.3607926851\n",
      "validation MAp:  0.841346153846\n",
      "RNSB:  [0.049511161519375221, 0.2007048659848033, 0.064820225578583565]\n",
      "1.56804604778 0.748051720244 1.38866791567\n",
      "loss:  0.31400766145\n",
      "validation MAp:  0.860576923077\n",
      "RNSB:  [0.034118563908034173, 0.15928696753101862, 0.042399278394365428]\n",
      "1.39258938929 0.805635087507 1.29964323185\n",
      "loss:  0.296833691486\n",
      "validation MAp:  0.865384615385\n",
      "RNSB:  [0.02818205853936637, 0.13948725152247121, 0.035253956851152707]\n"
     ]
    }
   ],
   "source": [
    "# Original, non-fairness whatever lr\n",
    "og_lr = LogisticRegression(val=(test_vectors,test_targets),X_tils = regularizers,reg_coeff=[0,0,0],lamb=0.01,num_iter=4000)\n",
    "(RNSB_debias,loss_debias,validation_scores_debias) = og_lr.fit(train_vectors,train_targets)\n",
    "\n",
    "# Regularized\n",
    "lr_debias = LogisticRegression(val=(test_vectors,test_targets),X_tils = regularizers,reg_coeff=[.2,.2,.2],lamb=0.01,num_iter=4000)\n",
    "(RNSB_debias,loss_debias,validation_scores_debias) = lr_debias.fit(train_vectors,train_targets)\n"
   ]
  },
  {
   "cell_type": "code",
   "execution_count": 22,
   "metadata": {},
   "outputs": [
    {
     "name": "stdout",
     "output_type": "stream",
     "text": [
      "6.56384235671 0.0 0.0\n",
      "loss:  0.690856537904\n",
      "validation MAp:  0.777243589744\n",
      "RNSB:  [9.4537982424941643e-08, 1.8962333443739011e-06, 3.2259507139171346e-07]\n",
      "1.48859468565 0.443235353959 0.0\n",
      "loss:  0.32675841767\n",
      "validation MAp:  0.900641025641\n",
      "RNSB:  [0.027611201890838225, 0.039258764326004114, 0.020620928552867519]\n",
      "1.03215893087 0.579222693007 0.0\n",
      "loss:  0.284219368225\n",
      "validation MAp:  0.918269230769\n",
      "RNSB:  [0.045636703431975165, 0.049776733846981808, 0.033045967005450469]\n",
      "0.872457725375 0.643380592881 0.0\n",
      "loss:  0.268799733933\n",
      "validation MAp:  0.919871794872\n",
      "RNSB:  [0.054751121615285461, 0.055183588965741596, 0.039263267744931926]\n",
      "6.56384235671 0.0 260.230511771\n",
      "loss:  0.685278737818\n",
      "validation MAp:  0.557692307692\n",
      "RNSB:  [0.0011350029807384188, 0.019006149481594847, 0.006969010687720309]\n",
      "2.03732960245 0.636875983 1.58893157742\n",
      "loss:  0.375498329602\n",
      "validation MAp:  0.842948717949\n",
      "RNSB:  [0.049786082083991018, 0.20245578574384562, 0.062657587881341556]\n",
      "1.51798595129 0.752262307317 1.30328232469\n",
      "loss:  0.326643928989\n",
      "validation MAp:  0.857371794872\n",
      "RNSB:  [0.035591586159172545, 0.16274544918367978, 0.040334374169501634]\n",
      "1.3351092648 0.812602557517 1.2056678109\n",
      "loss:  0.308505972342\n",
      "validation MAp:  0.863782051282\n",
      "RNSB:  [0.030105945260730141, 0.14444140865215405, 0.033620318177034106]\n",
      "1.25170606811 0.846330205168 1.16241288067\n",
      "loss:  0.299892384488\n",
      "validation MAp:  0.86858974359\n",
      "RNSB:  [0.027116980789290739, 0.13356819227546873, 0.031234772232881663]\n",
      "1.20919806289 0.865907421955 1.14002417448\n",
      "loss:  0.295318213504\n",
      "validation MAp:  0.870192307692\n",
      "RNSB:  [0.025359297522934504, 0.12624092221162078, 0.03020884872230261]\n",
      "1.18621301436 0.877824332257 1.12758768486\n",
      "loss:  0.292724565571\n",
      "validation MAp:  0.866987179487\n",
      "RNSB:  [0.024312685293621239, 0.12114052558794124, 0.029698365777121795]\n",
      "1.17329219115 0.885264394348 1.12028253197\n",
      "loss:  0.291187614751\n",
      "validation MAp:  0.865384615385\n",
      "RNSB:  [0.023687126374041662, 0.11753187839438478, 0.029416361218304328]\n",
      "6.56384235671 0.0 130.115255886\n",
      "loss:  0.687237603382\n",
      "validation MAp:  0.572115384615\n",
      "RNSB:  [0.00021763302495721171, 0.0039561294806250216, 0.0014186525091715403]\n",
      "1.96923858522 0.616946126512 1.4845673757\n",
      "loss:  0.369452962387\n",
      "validation MAp:  0.844551282051\n",
      "RNSB:  [0.084048716451581851, 0.26729695747831711, 0.098544562566017346]\n",
      "1.45168533959 0.734448507319 1.20930467424\n",
      "loss:  0.320868580519\n",
      "validation MAp:  0.862179487179\n",
      "RNSB:  [0.068581184369611636, 0.23555368077700239, 0.076785434773581032]\n",
      "1.27029537454 0.794157191583 1.11806544557\n",
      "loss:  0.302871697729\n",
      "validation MAp:  0.86858974359\n",
      "RNSB:  [0.060110629090146889, 0.22020564245292401, 0.066112139877448961]\n",
      "1.18751636927 0.827058210919 1.07583317061\n",
      "loss:  0.294319821423\n",
      "validation MAp:  0.878205128205\n",
      "RNSB:  [0.055383295660086138, 0.21112571405939012, 0.060741794848501375]\n",
      "1.14498618725 0.84612950129 1.05389383598\n",
      "loss:  0.28976148818\n",
      "validation MAp:  0.879807692308\n",
      "RNSB:  [0.052514384338847128, 0.2052278940326768, 0.057962634774962385]\n",
      "1.12174250384 0.857423961223 1.04145142722\n",
      "loss:  0.287168258604\n",
      "validation MAp:  0.878205128205\n",
      "RNSB:  [0.050676167437766761, 0.20113791318738469, 0.056459801515095276]\n",
      "1.108546575 0.864398008373 1.03402235913\n",
      "loss:  0.28562764655\n",
      "validation MAp:  0.878205128205\n",
      "RNSB:  [0.049465050123195867, 0.19819626130144352, 0.055612087305211465]\n"
     ]
    }
   ],
   "source": [
    "train_vectors_5 = np.array(remove_principle_component(train_vectors,4))\n",
    "\n",
    "# Removing 5th principle component\n",
    "lr_minus5 = LogisticRegression(val=(test_vectors,test_targets),X_tils = regularizers,reg_coeff=[0,0,0],lamb=0.01,num_iter=4000)\n",
    "(RNSB_debias,loss_debias,validation_scores_debias) = lr_minus5.fit(train_vectors_5, train_targets)\n"
   ]
  },
  {
   "cell_type": "code",
   "execution_count": 29,
   "metadata": {},
   "outputs": [
    {
     "name": "stdout",
     "output_type": "stream",
     "text": [
      "6.56384235671 0.0 390.345767657\n",
      "loss:  0.684959005004\n",
      "validation MAp:  0.55608974359\n",
      "RNSB:  [0.003158537783207651, 0.049705772998804229, 0.01893993835519394]\n",
      "2.08860047227 0.648061761839 1.67256987856\n",
      "loss:  0.379814066937\n",
      "validation MAp:  0.841346153846\n",
      "RNSB:  [0.031774617265509855, 0.15787686883230098, 0.040414580627086708]\n",
      "1.56628099633 0.764453639309 1.36838135515\n",
      "loss:  0.33082440947\n",
      "validation MAp:  0.855769230769\n",
      "RNSB:  [0.021589362596965825, 0.11557819013939802, 0.02437172982035643]\n",
      "1.38252219733 0.823815151847 1.27248919208\n",
      "loss:  0.312583779648\n",
      "validation MAp:  0.858974358974\n",
      "RNSB:  [0.01768626359246106, 0.096908607308082872, 0.021143412544296896]\n",
      "1.29913333747 0.857772452753 1.23077334056\n",
      "loss:  0.30392909809\n",
      "validation MAp:  0.860576923077\n",
      "RNSB:  [0.01583939203777926, 0.085592251449782733, 0.020123298396498908]\n",
      "1.25688470061 0.877660939888 1.20949072122\n",
      "loss:  0.29933748712\n",
      "validation MAp:  0.862179487179\n",
      "RNSB:  [0.014905803896708075, 0.078069991312477841, 0.01966656745583634]\n",
      "1.23377195804 0.890174271875 1.19745566031\n",
      "loss:  0.296742065582\n",
      "validation MAp:  0.858974358974\n",
      "RNSB:  [0.014403932513274162, 0.072817053189444814, 0.019413955596482402]\n",
      "1.22051503045 0.898226176222 1.19020003597\n",
      "loss:  0.295210825217\n",
      "validation MAp:  0.858974358974\n",
      "RNSB:  [0.014121319271145299, 0.069060828041437969, 0.019259979666485377]\n",
      "6.56384235671 0.0 520.461023542\n",
      "loss:  0.686244856907\n",
      "validation MAp:  0.55608974359\n",
      "RNSB:  [0.0066302044150326964, 0.098474347323437239, 0.039726186497464365]\n",
      "2.13071742939 0.65572147909 1.74117609481\n",
      "loss:  0.383362016291\n",
      "validation MAp:  0.839743589744\n",
      "RNSB:  [0.021885670693687714, 0.12342925964053023, 0.0269934447130687]\n",
      "1.60502433002 0.772954122585 1.42827701534\n",
      "loss:  0.334186208946\n",
      "validation MAp:  0.850961538462\n",
      "RNSB:  [0.014307443719668194, 0.08227175710089539, 0.016862043217415593]\n",
      "1.4201301981 0.832336155392 1.33180917161\n",
      "loss:  0.315821678492\n",
      "validation MAp:  0.854166666667\n",
      "RNSB:  [0.0116821547706991, 0.063994985454994407, 0.015239912374675608]\n",
      "1.33565271886 0.867011120525 1.28757950614\n",
      "loss:  0.307080254756\n",
      "validation MAp:  0.857371794872\n",
      "RNSB:  [0.010576789687096281, 0.053241118311037908, 0.014679952311568233]\n",
      "1.29151102057 0.887726926171 1.26260017197\n",
      "loss:  0.302402523752\n",
      "validation MAp:  0.857371794872\n",
      "RNSB:  [0.010002849591577117, 0.046663024259880163, 0.014358963684610196]\n",
      "1.26651980101 0.900587835782 1.24693205506\n",
      "loss:  0.299706826634\n",
      "validation MAp:  0.858974358974\n",
      "RNSB:  [0.0096677365651859724, 0.042735604878324673, 0.014134359680642215]\n",
      "1.25162592422 0.90883043158 1.23685208462\n",
      "loss:  0.29807182924\n",
      "validation MAp:  0.858974358974\n",
      "RNSB:  [0.0094626720465022449, 0.040453886594188006, 0.013969597993661056]\n"
     ]
    }
   ],
   "source": [
    "# Removing 5th principle component AND Regularized\n",
    "lr_minus5_reg = LogisticRegression(val=(test_vectors,test_targets),X_tils = regularizers,reg_coeff=[.3,.3,.3],lamb=0.01,num_iter=8000)\n",
    "(RNSB_debias,loss_debias,validation_scores_debias) = lr_minus5_reg.fit(train_vectors_5, train_targets)\n",
    "\n",
    "# Removing 5th principle component AND Regularized, with .1, .1, .1\n",
    "lr_minus5_reg2 = LogisticRegression(val=(test_vectors,test_targets),X_tils = regularizers,reg_coeff=[.4,.4,.4],lamb=0.01,num_iter=8000)\n",
    "(RNSB_debias,loss_debias,validation_scores_debias) = lr_minus5_reg2.fit(train_vectors_5, train_targets)"
   ]
  },
  {
   "cell_type": "code",
   "execution_count": 24,
   "metadata": {
    "collapsed": true
   },
   "outputs": [],
   "source": [
    "def get_metrics(lr_):\n",
    "    a,b,c = lr_.validation_fairness()\n",
    "    acc = lr_.validation(lr_.val[0], lr_.val[1])\n",
    "    return ((a,b,c),acc)\n",
    "    "
   ]
  },
  {
   "cell_type": "code",
   "execution_count": 25,
   "metadata": {},
   "outputs": [
    {
     "name": "stdout",
     "output_type": "stream",
     "text": [
      "((0.059524832628512103, 0.058153100527626171, 0.042533280736115148), 0.91987179487179482)\n"
     ]
    }
   ],
   "source": [
    "print(get_metrics(lr_minus5))"
   ]
  },
  {
   "cell_type": "code",
   "execution_count": 30,
   "metadata": {},
   "outputs": [
    {
     "data": {
      "image/png": "[encoded data removed]",
      "text/plain": [
       "<matplotlib.figure.Figure at 0x1467334a8>"
      ]
     },
     "metadata": {},
     "output_type": "display_data"
    },
    {
     "data": {
      "image/png": "[encoded data removed]",
      "text/plain": [
       "<matplotlib.figure.Figure at 0x146045ba8>"
      ]
     },
     "metadata": {},
     "output_type": "display_data"
    },
    {
     "data": {
      "image/png": "[encoded data removed]",
      "text/plain": [
       "<matplotlib.figure.Figure at 0x1460e86d8>"
      ]
     },
     "metadata": {},
     "output_type": "display_data"
    }
   ],
   "source": [
    "def annotate_data(labels, points, plt):\n",
    "\n",
    "    for label, point in zip(labels, points):\n",
    "        plt.annotate(label,xy=point,fontsize=15)\n",
    "    \n",
    "\n",
    "def plot_RNSB_scatter(og_lr, lr_debias, lr_minus5, lr_minus5_reg, lr_minus5_reg2):\n",
    "    \n",
    "#     rnsb_list = [lr.validation_fairness() for lr in lr_list]\n",
    "#     validation_list = [lr.validation(lr.val[0],lr.val[1]) for lr in lr_list]\n",
    "#     metric_a, metric_b, metric_c  = zip(*rnsb_list)\n",
    "    \n",
    "    \n",
    "    \n",
    "    (og_rnsb_a, og_rnsb_b, og_rnsb_c), og_acc = get_metrics(og_lr)\n",
    "    (debias_rnsb_a, debias_rnsb_b, debias_rnsb_c), debias_acc = get_metrics(lr_debias)\n",
    "    (minus5_rnsb_a, minus5_rnsb_b, minus5_rnsb_c), minus5_acc = get_metrics(lr_minus5)\n",
    "    (minus5_reg_rnsb_a, minus5_reg_rnsb_b, minus5_reg_rnsb_c), minus5_reg_acc = get_metrics(lr_minus5_reg)\n",
    "    (minus5_reg2_rnsb_a, minus5_reg2_rnsb_b, minus5_reg2_rnsb_c), minus5_reg2_acc = get_metrics(lr_minus5_reg2)\n",
    "\n",
    "    %matplotlib inline\n",
    "    plt.figure(figsize=(6,4))\n",
    "    plt.title(\"National Origin\",fontsize=20)\n",
    "    plt.xlabel(\"Validation Accuracy\")\n",
    "    plt.ylabel(\"RNSB\")\n",
    "    plt.scatter(og_acc, og_rnsb_a, color=\"red\")\n",
    "    plt.scatter(debias_acc, debias_rnsb_a, color=\"green\")\n",
    "    plt.scatter(minus5_acc, minus5_rnsb_a, color=\"blue\")\n",
    "    plt.scatter(minus5_reg_acc, minus5_reg_rnsb_a, color=\"cyan\")\n",
    "    plt.scatter(minus5_reg2_acc, minus5_reg2_rnsb_a, color=\"magenta\")\n",
    "    plt.axes().axhline(y=og_rnsb_a, color=\"gray\")\n",
    "    plt.axes().axvline(x=og_acc, color=\"gray\")\n",
    "    plt.show()\n",
    "    \n",
    "    %matplotlib inline\n",
    "    plt.figure(figsize=(6,4))\n",
    "    plt.title(\"National Origin\",fontsize=20)\n",
    "    plt.xlabel(\"Validation Accuracy\")\n",
    "    plt.ylabel(\"RNSB\")\n",
    "    plt.scatter(og_acc, og_rnsb_b, color=\"red\")\n",
    "    plt.scatter(debias_acc, debias_rnsb_b, color=\"green\")\n",
    "    plt.scatter(minus5_acc, minus5_rnsb_b, color=\"blue\")\n",
    "    plt.scatter(minus5_reg_acc, minus5_reg_rnsb_b, color=\"cyan\")\n",
    "    plt.scatter(minus5_reg2_acc, minus5_reg2_rnsb_b, color=\"magenta\")\n",
    "    plt.axes().axhline(y=og_rnsb_b, color=\"gray\")\n",
    "    plt.axes().axvline(x=og_acc, color=\"gray\")\n",
    "    plt.show()\n",
    "    \n",
    "    %matplotlib inline\n",
    "    plt.figure(figsize=(6,4))\n",
    "    plt.title(\"National Origin\",fontsize=20)\n",
    "    plt.xlabel(\"Validation Accuracy\")\n",
    "    plt.ylabel(\"RNSB\")\n",
    "    plt.scatter(og_acc, og_rnsb_c, color=\"red\")\n",
    "    plt.scatter(debias_acc, debias_rnsb_c, color=\"green\")\n",
    "    plt.scatter(minus5_acc, minus5_rnsb_c, color=\"blue\")\n",
    "    plt.scatter(minus5_reg_acc, minus5_reg_rnsb_c, color=\"cyan\")\n",
    "    plt.scatter(minus5_reg2_acc, minus5_reg2_rnsb_c, color=\"magenta\")\n",
    "    plt.axes().axhline(y=og_rnsb_c, color=\"gray\")\n",
    "    plt.axes().axvline(x=og_acc, color=\"gray\")\n",
    "    plt.show()\n",
    "    \n",
    "    \n",
    "\n",
    "plot_RNSB_scatter(og_lr, lr_debias, lr_minus5, lr_minus5_reg, lr_minus5_reg2)"
   ]
  },
  {
   "cell_type": "markdown",
   "metadata": {},
   "source": [
    "## Plotting PCA"
   ]
  },
  {
   "cell_type": "markdown",
   "metadata": {},
   "source": [
    "## Create fair regression terms"
   ]
  },
  {
   "cell_type": "code",
   "execution_count": null,
   "metadata": {
    "collapsed": true
   },
   "outputs": [],
   "source": [
    "N = np.zeros((len(nationalities),300))\n",
    "for i,j in enumerate(nationalities):\n",
    "    N[i,:] = embeddings[j.lower()]\n",
    "R = np.zeros((len(religions),300))\n",
    "for i,j in enumerate(religions):\n",
    "    R[i,:] = embeddings[j.lower()]\n",
    "G = np.zeros((len(gender),300))\n",
    "for i,j in enumerate(gender):\n",
    "    G[i,:] = embeddings[j.lower()]\n",
    "regularizers = [N,R,G]"
   ]
  },
  {
   "cell_type": "markdown",
   "metadata": {},
   "source": [
    "## train LR"
   ]
  },
  {
   "cell_type": "code",
   "execution_count": null,
   "metadata": {
    "collapsed": true
   },
   "outputs": [],
   "source": [
    "# for i in range(20):\n",
    "#     # Create new train/test split, because using \"new\" training data each time\n",
    "#     print(\"removing pca component: \" + str(i))\n",
    "#     train_vectors, test_vectors, train_targets, test_targets, train_labels, test_labels = \\\n",
    "#         train_test_split(vectors, targets, labels, test_size=0.1, random_state=0)\n",
    "        \n",
    "#     lr = LogisticRegression(val=(test_vectors,test_targets),X_tils = regularizers,reg_coeff=[0,0,0],lamb=0.01,num_iter=8000)\n",
    "#     (RNSB,loss,validation_scores) = lr.fit(train_vectors,train_targets)\n",
    "    \n",
    "    "
   ]
  },
  {
   "cell_type": "code",
   "execution_count": null,
   "metadata": {},
   "outputs": [],
   "source": [
    "lr = LogisticRegression(val=(test_vectors,test_targets),X_tils = regularizers,reg_coeff=[0,0,0],lamb=0.01,num_iter=8000)\n",
    "(RNSB,loss,validation_scores) = lr.fit(train_vectors,train_targets)\n",
    "print(\"----------------------------------------------\")\n",
    "lr_debias = LogisticRegression(val=(test_vectors,test_targets),X_tils = regularizers,reg_coeff=[.2,.2,.2],lamb=0.01,num_iter=8000)\n",
    "(RNSB_debias,loss_debias,validation_scores_debias) = lr_debias.fit(train_vectors,train_targets)"
   ]
  },
  {
   "cell_type": "markdown",
   "metadata": {},
   "source": [
    "## plot toxicity histogram for identity terms"
   ]
  },
  {
   "cell_type": "code",
   "execution_count": null,
   "metadata": {
    "collapsed": true
   },
   "outputs": [],
   "source": [
    "lr_debias.validation_fairness(),lr.validation_fairness()\n"
   ]
  },
  {
   "cell_type": "code",
   "execution_count": null,
   "metadata": {
    "collapsed": true
   },
   "outputs": [],
   "source": [
    "identity_toxicity = dict(identity_toxicity_table(gender,embeddings,lr))\n",
    "identity_toxicity = zip(*identity_toxicity.items())\n",
    "%matplotlib inline\n",
    "plt.figure()\n",
    "plt.title(\"Toxicity Classification Distribution\",fontsize=20)\n",
    "index = np.arange(len(identity_toxicity[0]))\n",
    "plt.bar(index,identity_toxicity[1]/np.sum(identity_toxicity[1]))\n",
    "plt.xticks(index, identity_toxicity[0], fontsize=15, rotation=45)\n",
    "plt.show()"
   ]
  },
  {
   "cell_type": "code",
   "execution_count": null,
   "metadata": {
    "collapsed": true
   },
   "outputs": [],
   "source": [
    "terms= []\n",
    "for i in nationalities:\n",
    "    terms.append(\"i love \" + i + \" food\")"
   ]
  },
  {
   "cell_type": "code",
   "execution_count": null,
   "metadata": {
    "collapsed": true
   },
   "outputs": [],
   "source": [
    "identity_toxicity = dict(identity_toxicity_table(terms,embeddings,lr))\n",
    "identity_toxicity = zip(*identity_toxicity.items())\n",
    "%matplotlib inline\n",
    "plt.figure()\n",
    "plt.title(\"Toxicity Classification Distribution\",fontsize=20)\n",
    "index = np.arange(len(identity_toxicity[0]))\n",
    "plt.bar(index,identity_toxicity[1]/np.sum(identity_toxicity[1]))\n",
    "plt.xticks(index, identity_toxicity[0], fontsize=15, rotation=45)\n",
    "plt.show()"
   ]
  },
  {
   "cell_type": "code",
   "execution_count": null,
   "metadata": {
    "collapsed": true
   },
   "outputs": [],
   "source": [
    "identity_toxicity = dict(identity_toxicity_table(terms,embeddings,lr_debias))\n",
    "identity_toxicity = zip(*identity_toxicity.items())\n",
    "%matplotlib inline\n",
    "plt.figure()\n",
    "plt.title(\"Toxicity Classification Distribution\",fontsize=20)\n",
    "index = np.arange(len(identity_toxicity[0]))\n",
    "plt.bar(index,identity_toxicity[1]/np.sum(identity_toxicity[1]))\n",
    "plt.xticks(index, identity_toxicity[0], fontsize=15, rotation=45)\n",
    "plt.show()"
   ]
  },
  {
   "cell_type": "code",
   "execution_count": null,
   "metadata": {
    "collapsed": true
   },
   "outputs": [],
   "source": [
    "identity_toxicity = dict(identity_toxicity_table(gender,embeddings,lr_debias))\n",
    "identity_toxicity = zip(*identity_toxicity.items())\n",
    "%matplotlib inline\n",
    "plt.figure()\n",
    "plt.title(\"Toxicity Classification Distribution\",fontsize=20)\n",
    "index = np.arange(len(identity_toxicity[0]))\n",
    "plt.bar(index,identity_toxicity[1]/np.sum(identity_toxicity[1]))\n",
    "plt.xticks(index, identity_toxicity[0], fontsize=15, rotation=45)\n",
    "plt.show()"
   ]
  },
  {
   "cell_type": "markdown",
   "metadata": {},
   "source": [
    "## Plot training curves"
   ]
  },
  {
   "cell_type": "code",
   "execution_count": null,
   "metadata": {
    "collapsed": true
   },
   "outputs": [],
   "source": [
    "plt.figure()\n",
    "plt.plot(zip(*RNSB)[0],label=\"National Identity\")\n",
    "plt.plot(zip(*RNSB)[1],label=\"Religion\")\n",
    "plt.plot(zip(*RNSB)[2],label=\"Gender\")\n",
    "\n",
    "#maybe also do analysi with no regulaization\n",
    "\n",
    "\n",
    "plt.title(\"Sentence Toxicity Classifcation, No Fair Regularization\")\n",
    "plt.xlabel(\"training steps\")\n",
    "plt.legend()"
   ]
  },
  {
   "cell_type": "code",
   "execution_count": null,
   "metadata": {
    "collapsed": true
   },
   "outputs": [],
   "source": [
    "np.argmax(zip(*RNSB_debias)[0])"
   ]
  },
  {
   "cell_type": "code",
   "execution_count": null,
   "metadata": {
    "collapsed": true
   },
   "outputs": [],
   "source": [
    "plt.figure()\n",
    "plt.plot(zip(*RNSB_debias)[0][np.argmax(zip(*RNSB_debias)[0]):],label=\"National Identity\")\n",
    "plt.plot(zip(*RNSB_debias)[1][np.argmax(zip(*RNSB_debias)[1]):],label=\"Religion\")\n",
    "plt.plot(zip(*RNSB_debias)[2][np.argmax(zip(*RNSB_debias)[2]):],label=\"Gender\")\n",
    "\n",
    "\n",
    "plt.title(\"Sentence Toxicity Classifcation\")\n",
    "plt.xlabel(\"training steps\")\n",
    "plt.legend()"
   ]
  },
  {
   "cell_type": "markdown",
   "metadata": {},
   "source": [
    "## test toxicity on gender equalized vs non equalized"
   ]
  },
  {
   "cell_type": "code",
   "execution_count": null,
   "metadata": {
    "collapsed": true
   },
   "outputs": [],
   "source": [
    "text_to_toxicity(lr,embeddings,'fuck'),text_to_toxicity(lr_debias,embeddings,'fuck')"
   ]
  },
  {
   "cell_type": "code",
   "execution_count": null,
   "metadata": {
    "collapsed": true
   },
   "outputs": [],
   "source": [
    "text_to_toxicity(lr,embeddings,'US'),text_to_toxicity(lr,embeddings,'mexico')"
   ]
  },
  {
   "cell_type": "code",
   "execution_count": null,
   "metadata": {
    "collapsed": true
   },
   "outputs": [],
   "source": [
    "text_to_toxicity(lr_debias,embeddings,'US'),text_to_toxicity(lr_debias,embeddings,'mexico')"
   ]
  },
  {
   "cell_type": "code",
   "execution_count": null,
   "metadata": {
    "collapsed": true
   },
   "outputs": [],
   "source": [
    "text_to_toxicity(lr,embeddings,'i am american'),text_to_toxicity(lr,embeddings,'i am mexican')"
   ]
  },
  {
   "cell_type": "code",
   "execution_count": null,
   "metadata": {
    "collapsed": true
   },
   "outputs": [],
   "source": [
    "text_to_toxicity(lr_debias,embeddings,'i am american'),text_to_toxicity(lr_debias,embeddings,\"i am mexican\")"
   ]
  },
  {
   "cell_type": "code",
   "execution_count": null,
   "metadata": {
    "collapsed": true
   },
   "outputs": [],
   "source": [
    "text_to_toxicity(lr,embeddings,'catholic'),text_to_toxicity(lr,embeddings,'jewish')"
   ]
  },
  {
   "cell_type": "code",
   "execution_count": null,
   "metadata": {
    "collapsed": true
   },
   "outputs": [],
   "source": [
    "text_to_toxicity(lr_debias,embeddings,'catholic'),text_to_toxicity(lr_debias,embeddings,'jewish')"
   ]
  },
  {
   "cell_type": "code",
   "execution_count": null,
   "metadata": {
    "collapsed": true
   },
   "outputs": [],
   "source": [
    "text_to_toxicity(lr,embeddings,'male'),text_to_toxicity(lr,embeddings,'female')"
   ]
  },
  {
   "cell_type": "code",
   "execution_count": null,
   "metadata": {
    "collapsed": true
   },
   "outputs": [],
   "source": [
    "text_to_toxicity(lr_debias,embeddings,'male'),text_to_toxicity(lr_debias,embeddings,'female')"
   ]
  },
  {
   "cell_type": "code",
   "execution_count": null,
   "metadata": {
    "collapsed": true
   },
   "outputs": [],
   "source": [
    "text_to_toxicity(lr,embeddings,'boy'),text_to_toxicity(lr,embeddings,'girl')"
   ]
  },
  {
   "cell_type": "code",
   "execution_count": null,
   "metadata": {
    "collapsed": true
   },
   "outputs": [],
   "source": [
    "text_to_toxicity(lr_debias,embeddings,'boy'),text_to_toxicity(lr_debias,embeddings,'girl')"
   ]
  },
  {
   "cell_type": "code",
   "execution_count": null,
   "metadata": {
    "collapsed": true
   },
   "outputs": [],
   "source": [
    "text_to_toxicity(lr_debias,embeddings,'dude'),text_to_toxicity(lr_debias,embeddings,'gal')"
   ]
  },
  {
   "cell_type": "markdown",
   "metadata": {},
   "source": [
    "## create identity keyword toxicity histograms"
   ]
  },
  {
   "cell_type": "code",
   "execution_count": null,
   "metadata": {
    "collapsed": true
   },
   "outputs": [],
   "source": [
    "identity_toxicity_debias = dict(identity_toxicity_table(identities, embeddings_debiased,model_debias,add='/c/en/'))\n",
    "identity_toxicity = dict(identity_toxicity_table(identities,embeddings,model))\n",
    "keys_common = set(map(lambda x : x[6:] , identity_toxicity_debias.keys())).intersection(set(identity_toxicity.keys()))\n",
    "identity_toxicity_debias = {key: identity_toxicity_debias['/c/en/'+key] for key in keys_common }\n",
    "identity_toxicity = {key: identity_toxicity[key] for key in keys_common }\n",
    "identity_toxicity_debias = zip(*identity_toxicity_debias.items())\n",
    "identity_toxicity = zip(*identity_toxicity.items())\n",
    "%matplotlib inline\n",
    "f = plt.figure(figsize=(27, 18), dpi= 80, facecolor='w', edgecolor='k')\n",
    "f.subplots_adjust(hspace=.8)\n",
    "f.add_subplot(411)\n",
    "plt.title(\"Toxicity Classification Distribution\",fontsize=20)\n",
    "index = np.arange(len(identity_toxicity[0]))\n",
    "plt.bar(index,identity_toxicity[1]/np.sum(identity_toxicity[1]))\n",
    "plt.xticks(index, identity_toxicity[0], fontsize=15, rotation=45)\n",
    "plt.ylim(top=.06,bottom=0)\n",
    "f.add_subplot(412)\n",
    "plt.title(\"Concept Net Debiased Toxicity Classification Distribution\",fontsize=20)\n",
    "index = np.arange(len(identity_toxicity_debias[0]))\n",
    "plt.bar(index,identity_toxicity_debias[1]/np.sum(identity_toxicity_debias[1]))\n",
    "plt.xticks(index, identity_toxicity_debias[0], fontsize=15, rotation=45)\n",
    "plt.ylim(top=.06,bottom=0)\n",
    "f.add_subplot(413)\n",
    "plt.title(\"Delta\",fontsize=20)\n",
    "index = np.arange(len(identity_toxicity_debias[0]))\n",
    "delta = identity_toxicity[1]/np.sum(identity_toxicity[1])-identity_toxicity_debias[1]/np.sum(identity_toxicity_debias[1])\n",
    "bar = plt.bar(index,delta)\n",
    "for i,j in enumerate(delta):\n",
    "    bar[i].set_color('r') if j<0 else bar[i].set_color('g')\n",
    "plt.xticks(index, identity_toxicity_debias[0], fontsize=15, rotation=45)\n",
    "plt.ylim(top=.06,bottom=-.06)\n",
    "f.add_subplot(414)\n",
    "plt.title('\"Fair\" Taget Distribution',fontsize=20)\n",
    "index = np.arange(len(identity_toxicity[0]))\n",
    "plt.bar(index,1./len(identity_toxicity[1]))\n",
    "plt.xticks(index, identity_toxicity[0], fontsize=15, rotation=45)\n",
    "plt.ylim(top=.06,bottom=0)\n",
    "plt.show()\n",
    "uniform_dist = np.ones(len(identity_toxicity[1]))*1./len(identity_toxicity[1])\n",
    "uniform_dist_d = np.ones(len(identity_toxicity_debias[1]))*1./len(identity_toxicity_debias[1])\n",
    "\n",
    "debiased_normalized = identity_toxicity_debias[1]/np.sum(identity_toxicity_debias[1])\n",
    "biased_normalized = identity_toxicity[1]/np.sum(identity_toxicity[1])\n",
    "kl_debiased = (debiased_normalized * np.log(debiased_normalized/uniform_dist_d)).sum()\n",
    "kl_biased = (biased_normalized * np.log(biased_normalized/uniform_dist)).sum()\n",
    "print 'kl divergence from uniform dist for concept net:',kl_debiased\n",
    "print 'kl divergence from uniform dist for google news:',kl_biased"
   ]
  },
  {
   "cell_type": "markdown",
   "metadata": {},
   "source": [
    "## model comparison with different methods"
   ]
  },
  {
   "cell_type": "code",
   "execution_count": null,
   "metadata": {
    "collapsed": true,
    "scrolled": false
   },
   "outputs": [],
   "source": [
    "identity_toxicity_debias = dict(identity_toxicity_table(nationalities, embeddings,model_debias_kernel))\n",
    "identity_toxicity = dict(identity_toxicity_table(nationalities,embeddings,model))\n",
    "# keys_common = set(map(lambda x : x[6:] , identity_toxicity_debias.keys())).intersection(set(identity_toxicity.keys()))\n",
    "# identity_toxicity_debias = {key: identity_toxicity_debias[key] for key in keys_common }\n",
    "# identity_toxicity = {key: identity_toxicity[key] for key in keys_common }\n",
    "identity_toxicity_debias = zip(*identity_toxicity_debias.items())\n",
    "identity_toxicity = zip(*identity_toxicity.items())\n",
    "%matplotlib inline\n",
    "f = plt.figure(figsize=(27, 18), dpi= 80, facecolor='w', edgecolor='k')\n",
    "f.subplots_adjust(hspace=1.2)\n",
    "f.add_subplot(411)\n",
    "plt.title(\"GloVe Negative Sentiment Distribution\",fontsize=35)\n",
    "index = np.arange(len(identity_toxicity[0]))\n",
    "plt.bar(index,identity_toxicity[1]/np.sum(identity_toxicity[1]))\n",
    "plt.xticks(index, identity_toxicity[0], fontsize=25, rotation=35)\n",
    "plt.ylim(top=.2,bottom=0)\n",
    "f.add_subplot(412)\n",
    "plt.title(\"GloVe Kernel Negative Sentiment Distribution\",fontsize=35)\n",
    "index = np.arange(len(identity_toxicity_debias[0]))\n",
    "plt.bar(index,identity_toxicity_debias[1]/np.sum(identity_toxicity_debias[1]))\n",
    "plt.xticks(index, identity_toxicity_debias[0], fontsize=25, rotation=35)\n",
    "plt.ylim(top=.2,bottom=0)\n",
    "f.add_subplot(413)\n",
    "plt.title(\"Delta Between Word Embedding Distributions\",fontsize=35)\n",
    "index = np.arange(len(identity_toxicity_debias[0]))\n",
    "delta = identity_toxicity[1]/np.sum(identity_toxicity[1])-identity_toxicity_debias[1]/np.sum(identity_toxicity_debias[1])\n",
    "bar = plt.bar(index,delta)\n",
    "for i,j in enumerate(delta):\n",
    "    bar[i].set_color('r') if j<0 else bar[i].set_color('g')\n",
    "plt.xticks(index, identity_toxicity_debias[0], fontsize=25, rotation=35)\n",
    "plt.ylim(top=.2,bottom=-.06)\n",
    "f.add_subplot(414)\n",
    "plt.title('Fair Uniform Taget Distribution',fontsize=35)\n",
    "index = np.arange(len(identity_toxicity[0]))\n",
    "plt.bar(index,1./len(identity_toxicity[1]))\n",
    "plt.xticks(index, identity_toxicity[0], fontsize=25, rotation=35)\n",
    "plt.ylim(top=.2,bottom=0)\n",
    "plt.show()\n",
    "uniform_dist = np.ones(len(identity_toxicity[1]))*1./len(identity_toxicity[1])\n",
    "uniform_dist_d = np.ones(len(identity_toxicity_debias[1]))*1./len(identity_toxicity_debias[1])\n",
    "\n",
    "debiased_normalized = identity_toxicity_debias[1]/np.sum(identity_toxicity_debias[1])\n",
    "biased_normalized = identity_toxicity[1]/np.sum(identity_toxicity[1])\n",
    "kl_debiased = (debiased_normalized * np.log(debiased_normalized/uniform_dist_d)).sum()\n",
    "kl_biased = (biased_normalized * np.log(biased_normalized/uniform_dist)).sum()\n",
    "print 'kl divergence from uniform dist for concept net:',kl_debiased\n",
    "print 'kl divergence from uniform dist for google news:',kl_biased"
   ]
  },
  {
   "cell_type": "code",
   "execution_count": null,
   "metadata": {
    "collapsed": true
   },
   "outputs": [],
   "source": [
    "from pandas import DataFrame\n",
    "import seaborn as sns\n",
    "sns.set(font_scale=1.3)\n",
    "%matplotlib inline\n",
    "A = np.outer(identity_toxicity[1],identity_toxicity[1])\n",
    "\n",
    "df = DataFrame(A, index=identity_toxicity[0], columns=identity_toxicity[0])\n",
    "\n",
    "sns.heatmap(df, annot=False)"
   ]
  },
  {
   "cell_type": "code",
   "execution_count": null,
   "metadata": {
    "collapsed": true
   },
   "outputs": [],
   "source": [
    "A = np.outer(identity_toxicity_debias[1],identity_toxicity_debias[1])\n",
    "\n",
    "df = DataFrame(A, index=identity_toxicity_debias[0], columns=identity_toxicity_debias[0])\n",
    "\n",
    "sns.heatmap(df, annot=False)"
   ]
  }
 ],
 "metadata": {
  "kernelspec": {
   "display_name": "Python 3",
   "language": "python",
   "name": "python3"
  },
  "language_info": {
   "codemirror_mode": {
    "name": "ipython",
    "version": 3
   },
   "file_extension": ".py",
   "mimetype": "text/x-python",
   "name": "python",
   "nbconvert_exporter": "python",
   "pygments_lexer": "ipython3",
   "version": "3.6.1"
  }
 },
 "nbformat": 4,
 "nbformat_minor": 2
}
